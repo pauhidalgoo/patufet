{
 "cells": [
  {
   "cell_type": "code",
   "execution_count": 14,
   "metadata": {},
   "outputs": [],
   "source": [
    "import pandas as pd\n",
    "import re\n",
    "\n",
    "# Load the CSV file into a DataFrame\n",
    "df = pd.read_csv('./synthetic_writtings.csv')\n",
    "df2 = pd.read_csv('./synthetic_writtings2.csv')"
   ]
  },
  {
   "cell_type": "code",
   "execution_count": 15,
   "metadata": {},
   "outputs": [],
   "source": [
    "df = pd.concat([df, df2], ignore_index=True)"
   ]
  },
  {
   "cell_type": "code",
   "execution_count": 16,
   "metadata": {},
   "outputs": [
    {
     "data": {
      "text/html": [
       "<div>\n",
       "<style scoped>\n",
       "    .dataframe tbody tr th:only-of-type {\n",
       "        vertical-align: middle;\n",
       "    }\n",
       "\n",
       "    .dataframe tbody tr th {\n",
       "        vertical-align: top;\n",
       "    }\n",
       "\n",
       "    .dataframe thead th {\n",
       "        text-align: right;\n",
       "    }\n",
       "</style>\n",
       "<table border=\"1\" class=\"dataframe\">\n",
       "  <thead>\n",
       "    <tr style=\"text-align: right;\">\n",
       "      <th></th>\n",
       "      <th>Converse</th>\n",
       "      <th>Writing</th>\n",
       "      <th>Type</th>\n",
       "      <th>About</th>\n",
       "      <th>Sentiment</th>\n",
       "      <th>Rima</th>\n",
       "    </tr>\n",
       "  </thead>\n",
       "  <tbody>\n",
       "    <tr>\n",
       "      <th>0</th>\n",
       "      <td>User: Voldria un poema satíric sobre la por.\\n...</td>\n",
       "      <td>poems</td>\n",
       "      <td>sàtira</td>\n",
       "      <td>NaN</td>\n",
       "      <td>por</td>\n",
       "      <td>tetrasíl·labs (4 versos)</td>\n",
       "    </tr>\n",
       "    <tr>\n",
       "      <th>1</th>\n",
       "      <td>User: Em podries fer un haiku sobre tendresa?\\...</td>\n",
       "      <td>poems</td>\n",
       "      <td>haiku</td>\n",
       "      <td>NaN</td>\n",
       "      <td>tendresa</td>\n",
       "      <td>alexandrins (12 versos)</td>\n",
       "    </tr>\n",
       "    <tr>\n",
       "      <th>2</th>\n",
       "      <td>User: Necessito un correu electrònic formal pe...</td>\n",
       "      <td>emails</td>\n",
       "      <td>formal email</td>\n",
       "      <td>legal and compliance notes</td>\n",
       "      <td>NaN</td>\n",
       "      <td>NaN</td>\n",
       "    </tr>\n",
       "    <tr>\n",
       "      <th>3</th>\n",
       "      <td>User: Podries escriure una epopeia sobre la id...</td>\n",
       "      <td>poems</td>\n",
       "      <td>epopeia</td>\n",
       "      <td>NaN</td>\n",
       "      <td>identitat</td>\n",
       "      <td>octosíl·labs (8 versos)</td>\n",
       "    </tr>\n",
       "    <tr>\n",
       "      <th>4</th>\n",
       "      <td>User: Hola, necessito un correu electrònic for...</td>\n",
       "      <td>emails</td>\n",
       "      <td>formal email</td>\n",
       "      <td>legal and compliance notes</td>\n",
       "      <td>NaN</td>\n",
       "      <td>NaN</td>\n",
       "    </tr>\n",
       "    <tr>\n",
       "      <th>...</th>\n",
       "      <td>...</td>\n",
       "      <td>...</td>\n",
       "      <td>...</td>\n",
       "      <td>...</td>\n",
       "      <td>...</td>\n",
       "      <td>...</td>\n",
       "    </tr>\n",
       "    <tr>\n",
       "      <th>5118</th>\n",
       "      <td>User: Pots crear un missatge per al grup de vo...</td>\n",
       "      <td>whatsapp messages</td>\n",
       "      <td>community groups</td>\n",
       "      <td>volunteer opportunities</td>\n",
       "      <td>NaN</td>\n",
       "      <td>NaN</td>\n",
       "    </tr>\n",
       "    <tr>\n",
       "      <th>5119</th>\n",
       "      <td>User: Pots crear un missatge per al grup de Wh...</td>\n",
       "      <td>whatsapp messages</td>\n",
       "      <td>community groups</td>\n",
       "      <td>volunteer opportunities</td>\n",
       "      <td>NaN</td>\n",
       "      <td>NaN</td>\n",
       "    </tr>\n",
       "    <tr>\n",
       "      <th>5120</th>\n",
       "      <td>User: Necessito un correu electrònic per envia...</td>\n",
       "      <td>emails</td>\n",
       "      <td>educational email</td>\n",
       "      <td>course updates</td>\n",
       "      <td>NaN</td>\n",
       "      <td>NaN</td>\n",
       "    </tr>\n",
       "    <tr>\n",
       "      <th>5121</th>\n",
       "      <td>User: Necessito un post per LinkedIn sobre lid...</td>\n",
       "      <td>linkedin posts</td>\n",
       "      <td>industry insights</td>\n",
       "      <td>thought leadership</td>\n",
       "      <td>NaN</td>\n",
       "      <td>NaN</td>\n",
       "    </tr>\n",
       "    <tr>\n",
       "      <th>5122</th>\n",
       "      <td>User: Necessito un tweet per demanar a la gent...</td>\n",
       "      <td>tweets</td>\n",
       "      <td>social activism</td>\n",
       "      <td>community support</td>\n",
       "      <td>NaN</td>\n",
       "      <td>NaN</td>\n",
       "    </tr>\n",
       "  </tbody>\n",
       "</table>\n",
       "<p>5123 rows × 6 columns</p>\n",
       "</div>"
      ],
      "text/plain": [
       "                                               Converse            Writing  \\\n",
       "0     User: Voldria un poema satíric sobre la por.\\n...              poems   \n",
       "1     User: Em podries fer un haiku sobre tendresa?\\...              poems   \n",
       "2     User: Necessito un correu electrònic formal pe...             emails   \n",
       "3     User: Podries escriure una epopeia sobre la id...              poems   \n",
       "4     User: Hola, necessito un correu electrònic for...             emails   \n",
       "...                                                 ...                ...   \n",
       "5118  User: Pots crear un missatge per al grup de vo...  whatsapp messages   \n",
       "5119  User: Pots crear un missatge per al grup de Wh...  whatsapp messages   \n",
       "5120  User: Necessito un correu electrònic per envia...             emails   \n",
       "5121  User: Necessito un post per LinkedIn sobre lid...     linkedin posts   \n",
       "5122  User: Necessito un tweet per demanar a la gent...             tweets   \n",
       "\n",
       "                   Type                       About  Sentiment  \\\n",
       "0                sàtira                         NaN        por   \n",
       "1                 haiku                         NaN   tendresa   \n",
       "2          formal email  legal and compliance notes        NaN   \n",
       "3               epopeia                         NaN  identitat   \n",
       "4          formal email  legal and compliance notes        NaN   \n",
       "...                 ...                         ...        ...   \n",
       "5118   community groups     volunteer opportunities        NaN   \n",
       "5119   community groups     volunteer opportunities        NaN   \n",
       "5120  educational email              course updates        NaN   \n",
       "5121  industry insights          thought leadership        NaN   \n",
       "5122    social activism           community support        NaN   \n",
       "\n",
       "                          Rima  \n",
       "0     tetrasíl·labs (4 versos)  \n",
       "1      alexandrins (12 versos)  \n",
       "2                          NaN  \n",
       "3      octosíl·labs (8 versos)  \n",
       "4                          NaN  \n",
       "...                        ...  \n",
       "5118                       NaN  \n",
       "5119                       NaN  \n",
       "5120                       NaN  \n",
       "5121                       NaN  \n",
       "5122                       NaN  \n",
       "\n",
       "[5123 rows x 6 columns]"
      ]
     },
     "execution_count": 16,
     "metadata": {},
     "output_type": "execute_result"
    }
   ],
   "source": [
    "df"
   ]
  },
  {
   "cell_type": "code",
   "execution_count": 17,
   "metadata": {},
   "outputs": [],
   "source": [
    "def parse_converse(text):\n",
    "    # Define regex patterns to extract prompt and completion\n",
    "    pattern = re.compile(r'User: (.+?)\\nAI: (.+)', re.DOTALL)\n",
    "    match = pattern.search(text)\n",
    "    \n",
    "    if match:\n",
    "        prompt = match.group(1).strip()\n",
    "        completion = match.group(2).strip()\n",
    "        return pd.Series([prompt, completion])\n",
    "    else:\n",
    "        return pd.Series([None, None])\n",
    "\n",
    "# Apply the function to the 'converse' column\n",
    "df[['prompt', 'completion']] = df['Converse'].apply(parse_converse)\n",
    "\n",
    "# Optionally, drop the original 'converse' column if it's no longer needed\n",
    "df.drop(columns=['Converse'], inplace=True)\n"
   ]
  },
  {
   "cell_type": "code",
   "execution_count": 18,
   "metadata": {},
   "outputs": [],
   "source": [
    "df_cleaned = df[['prompt', 'completion']]"
   ]
  },
  {
   "cell_type": "code",
   "execution_count": 19,
   "metadata": {},
   "outputs": [
    {
     "data": {
      "text/html": [
       "<div>\n",
       "<style scoped>\n",
       "    .dataframe tbody tr th:only-of-type {\n",
       "        vertical-align: middle;\n",
       "    }\n",
       "\n",
       "    .dataframe tbody tr th {\n",
       "        vertical-align: top;\n",
       "    }\n",
       "\n",
       "    .dataframe thead th {\n",
       "        text-align: right;\n",
       "    }\n",
       "</style>\n",
       "<table border=\"1\" class=\"dataframe\">\n",
       "  <thead>\n",
       "    <tr style=\"text-align: right;\">\n",
       "      <th></th>\n",
       "      <th>prompt</th>\n",
       "      <th>completion</th>\n",
       "    </tr>\n",
       "  </thead>\n",
       "  <tbody>\n",
       "    <tr>\n",
       "      <th>0</th>\n",
       "      <td>Voldria un poema satíric sobre la por.</td>\n",
       "      <td>La por, un monstre que ens fa tremolar,\\nEns a...</td>\n",
       "    </tr>\n",
       "    <tr>\n",
       "      <th>1</th>\n",
       "      <td>Em podries fer un haiku sobre tendresa?</td>\n",
       "      <td>Un toc suau de seda,\\nUn somriure que s'escamp...</td>\n",
       "    </tr>\n",
       "    <tr>\n",
       "      <th>2</th>\n",
       "      <td>Necessito un correu electrònic formal per envi...</td>\n",
       "      <td>Assumpte: Notes Legals i de Conformitat - [El ...</td>\n",
       "    </tr>\n",
       "    <tr>\n",
       "      <th>3</th>\n",
       "      <td>Podries escriure una epopeia sobre la identitat?</td>\n",
       "      <td>Qui som, d'on venim, què ens fa ser,\\nUn miste...</td>\n",
       "    </tr>\n",
       "    <tr>\n",
       "      <th>4</th>\n",
       "      <td>Hola, necessito un correu electrònic formal pe...</td>\n",
       "      <td>Hola! Aquí tens un correu electrònic que pots ...</td>\n",
       "    </tr>\n",
       "  </tbody>\n",
       "</table>\n",
       "</div>"
      ],
      "text/plain": [
       "                                              prompt  \\\n",
       "0             Voldria un poema satíric sobre la por.   \n",
       "1            Em podries fer un haiku sobre tendresa?   \n",
       "2  Necessito un correu electrònic formal per envi...   \n",
       "3   Podries escriure una epopeia sobre la identitat?   \n",
       "4  Hola, necessito un correu electrònic formal pe...   \n",
       "\n",
       "                                          completion  \n",
       "0  La por, un monstre que ens fa tremolar,\\nEns a...  \n",
       "1  Un toc suau de seda,\\nUn somriure que s'escamp...  \n",
       "2  Assumpte: Notes Legals i de Conformitat - [El ...  \n",
       "3  Qui som, d'on venim, què ens fa ser,\\nUn miste...  \n",
       "4  Hola! Aquí tens un correu electrònic que pots ...  "
      ]
     },
     "execution_count": 19,
     "metadata": {},
     "output_type": "execute_result"
    }
   ],
   "source": [
    "df_cleaned.head()"
   ]
  },
  {
   "cell_type": "code",
   "execution_count": 34,
   "metadata": {},
   "outputs": [],
   "source": [
    "df_cleaned = df_cleaned.dropna()"
   ]
  },
  {
   "cell_type": "code",
   "execution_count": 35,
   "metadata": {},
   "outputs": [],
   "source": [
    "df_cleaned.to_csv('cleaned_writings.csv', index=False)"
   ]
  },
  {
   "cell_type": "code",
   "execution_count": 36,
   "metadata": {},
   "outputs": [
    {
     "data": {
      "image/png": "[encoded data removed]",
      "text/plain": [
       "<Figure size 1000x600 with 1 Axes>"
      ]
     },
     "metadata": {},
     "output_type": "display_data"
    }
   ],
   "source": [
    "import matplotlib.pyplot as plt\n",
    "\n",
    "type_counts = df['Writing'].value_counts()\n",
    "\n",
    "# Create a barplot\n",
    "plt.figure(figsize=(10, 6))\n",
    "type_counts.plot(kind='bar', color='skyblue')\n",
    "\n",
    "# Add labels and title\n",
    "plt.xlabel('Type')\n",
    "plt.ylabel('Count')\n",
    "plt.title('Count of Each Type')\n",
    "\n",
    "# Show the plot\n",
    "plt.xticks(rotation=45)  # Rotate x-axis labels if needed\n",
    "plt.tight_layout()       # Adjust layout to fit labels\n",
    "plt.show()"
   ]
  },
  {
   "cell_type": "code",
   "execution_count": 37,
   "metadata": {},
   "outputs": [],
   "source": [
    "from huggingface_hub import HfApi, HfFolder, Repository, DatasetCard, DatasetCardData\n",
    "from datasets import load_dataset, DatasetDict, Dataset\n",
    "import pandas as pd"
   ]
  },
  {
   "cell_type": "code",
   "execution_count": 38,
   "metadata": {},
   "outputs": [
    {
     "data": {
      "application/vnd.jupyter.widget-view+json": {
       "model_id": "3aef768224b941a4bd7f17abefd3e458",
       "version_major": 2,
       "version_minor": 0
      },
      "text/plain": [
       "Generating train split: 0 examples [00:00, ? examples/s]"
      ]
     },
     "metadata": {},
     "output_type": "display_data"
    }
   ],
   "source": [
    "hf_dataset = load_dataset(\"csv\", data_files=\"cleaned_writings.csv\")\n"
   ]
  },
  {
   "cell_type": "code",
   "execution_count": 39,
   "metadata": {},
   "outputs": [
    {
     "data": {
      "application/vnd.jupyter.widget-view+json": {
       "model_id": "9cd97b64b2f145d9b19a5b422303ed2a",
       "version_major": 2,
       "version_minor": 0
      },
      "text/plain": [
       "Uploading the dataset shards:   0%|          | 0/1 [00:00<?, ?it/s]"
      ]
     },
     "metadata": {},
     "output_type": "display_data"
    },
    {
     "data": {
      "application/vnd.jupyter.widget-view+json": {
       "model_id": "242fefb0432e40c2a52cd66d8966ef30",
       "version_major": 2,
       "version_minor": 0
      },
      "text/plain": [
       "Creating parquet from Arrow format:   0%|          | 0/6 [00:00<?, ?ba/s]"
      ]
     },
     "metadata": {},
     "output_type": "display_data"
    },
    {
     "data": {
      "application/vnd.jupyter.widget-view+json": {
       "model_id": "0f5ed558b14f42df9c0f3758fd4ef5c5",
       "version_major": 2,
       "version_minor": 0
      },
      "text/plain": [
       "README.md:   0%|          | 0.00/315 [00:00<?, ?B/s]"
      ]
     },
     "metadata": {},
     "output_type": "display_data"
    },
    {
     "name": "stdout",
     "output_type": "stream",
     "text": [
      "Dataset uploaded successfully to Hugging Face!\n"
     ]
    }
   ],
   "source": [
    "from huggingface_hub import create_repo\n",
    "repo_url = create_repo(\"pauhidalgoo/patufet-escrits\", repo_type=\"dataset\", private=False)\n",
    "\n",
    "\n",
    "hf_dataset.push_to_hub(\"pauhidalgoo/patufet-escrits\")\n",
    "\n",
    "print(\"Dataset uploaded successfully to Hugging Face!\")"
   ]
  }
 ],
 "metadata": {
  "kernelspec": {
   "display_name": "Python 3",
   "language": "python",
   "name": "python3"
  },
  "language_info": {
   "codemirror_mode": {
    "name": "ipython",
    "version": 3
   },
   "file_extension": ".py",
   "mimetype": "text/x-python",
   "name": "python",
   "nbconvert_exporter": "python",
   "pygments_lexer": "ipython3",
   "version": "3.11.9"
  }
 },
 "nbformat": 4,
 "nbformat_minor": 2
}
