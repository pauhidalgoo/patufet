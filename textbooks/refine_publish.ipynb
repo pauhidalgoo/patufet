{
 "cells": [
  {
   "cell_type": "code",
   "execution_count": 20,
   "metadata": {},
   "outputs": [],
   "source": [
    "from datasets import load_dataset\n",
    "\n",
    "\n",
    "d = load_dataset(\"oscar-corpus/OSCAR-2301\", \"ca\", split=\"train\", streaming=True)"
   ]
  },
  {
   "cell_type": "code",
   "execution_count": 24,
   "metadata": {},
   "outputs": [
    {
     "name": "stdout",
     "output_type": "stream",
     "text": [
      "Una cookie o galeta informàtica és un petit arxiu d'informació que es guarda en el teu ordinador, \"smartphone\" o tauleta cada vegada que visites la nostra pàgina web. Algunes cookies són nostres i unes altres pertanyen a empreses externes que presten serveis per a la nostra pàgina web.\n",
      "Les cookies poden ser de diversos tipus: les cookies tècniques són necessàries perquè la nostra pàgina web pugui funcionar. Altres cookies serveixen per millorar la nostra pàgina, personalitzar-la o mostrar-publicitat ajustada a les teves recerques i interessos. Pots acceptar totes aquestes cookies prement el botó ACCEPTAR o configurar-les o rebutjar el seu ús clicant a l'apartat CONFIGURACIÓ DE COOKIES.\n",
      "Si vols més informació, consulta la Política de cookies de la nostra pàgina web.\n",
      "AcceptarConfiguració general\n",
      "Cookies i política de privacitat\n",
      "Informació bàsica sobre cookies\n",
      "Benvinguda/o a la informació bàsica sobre les cookies de la pàgina web responsabilitat de l'entitat: Rubisab 1 S.L.\n",
      "Una cookie o galeta informàtica és un petit arxiu d'informació que es guarda en el teu ordinador, \"smartphone\" o tauleta cada vegada que visites la nostra pàgina web. Algunes cookies són nostres i unes altres pertanyen a empreses externes que presten serveis per a la nostra pàgina web.\n",
      "Les cookies poden ser de diversos tipus: les cookies tècniques són necessàries perquè la nostra pàgina web pugui funcionar, no necessiten de la teva autorització i són les úniques que tenim activades per defecte.\n",
      "La resta de cookies serveixen per millorar la nostra pàgina, per a personalitzar-la sobre la base de les teves preferències, o per a poder mostrar-te publicitat ajustada a les teves cerques, gustos i interessos personals. Pots acceptar totes aquestes cookies prement el botó ACCEPTAR o configurar-les o rebutjar el seu ús clicant en l'apartat CONFIGURACIÓ DE COOKIES.\n",
      "Si vols més informació, consulta la POLÍTICA DE COOKIES de la nostra pàgina web.\n",
      "Cookies tècniques necessàries\n",
      "Perquè la nostra pàgina web pugui funcionar. Activades per defecte.\n",
      "Les cookies tècniques són estrictament necessàries perquè la nostra pàgina web funcioni i puguis navegar per la mateixa. Aquest tipus de cookies són les que, per exemple, ens permeten identificar-te, donar-te accés a determinades parts restringides de la pàgina si fos necessari, o recordar diferents opcions o serveis ja seleccionats per tu, com les teves preferències de privacitat. Per això, estan activades per defecte, no sent necessària la seva autorització al respecte.\n",
      "A través de la configuració del teu navegador, pots bloquejar o alertar de la presència d'aquest tipus de cookies, tot i que aquest bloqueig afectarà el correcte funcionament de les diferents funcionalitats de la nostra pàgina web.\n",
      "Tipus de cookies\n",
      "COOKIES D'ANÀLISI\n",
      "Per a la millora contínua de la nostra pàgina web. Pots activar o desactivar-les.\n",
      "Les cookies d'anàlisi ens permeten estudiar la navegació dels usuaris de la nostra pàgina web en general (per exemple, quines seccions de la pàgina són les més visitades, quins serveis es fan servir més i si funcionen correctament, etc.).\n",
      "A partir de la informació estadística sobre la navegació a la nostra pàgina web, podem millorar tant el propi funcionament de la pàgina com els diferents serveis que ofereix. Per tant, aquestes cookies no tenen una finalitat publicitària, sinó que únicament serveixen perquè la nostra pàgina web funcioni millor, adaptant-se als nostres usuaris en general. Activant-les contribuiràs a aquesta millora contínua.\n",
      "Pots activar o desactivar aquestes cookies marcant la casella corresponent, estant desactivades per defecte.\n",
      "COOKIES DE FUNCIONALITAT I PERSONALITZACIÓ\n",
      "Per millorar la funcionalitat i personalització de la nostra pàgina web sobre la base de les teves preferències. Pots activar o desactivar-les.\n",
      "Les cookies de funcionalitat ens permeten recordar les teves preferències, per personalitzar a la teva mida determinades característiques i opcions generals de la nostra pàgina web, cada vegada que accedeixis a la mateixa (per exemple, l'idioma en què se't presenta la informació, les seccions marcades com favorites, el teu tipus de navegador, etc.).\n",
      "Per tant, aquest tipus de cookies no tenen una finalitat publicitària, sinó que activant-les milloraràs la funcionalitat de la pàgina web (per exemple, adaptant-se al teu tipus de navegador) i la personalització de la mateixa en base a les teves preferències (per exemple, presentant la informació en l'idioma que hagis escollit en anteriors ocasions), la qual cosa contribuirà a la facilitat, usabilitat i comoditat de la nostra pàgina durant la teva navegació.\n",
      "Pots activar o desactivar aquestes cookies marcant la casella corresponent, estant desactivades per defecte.\n",
      "COOKIES DE PUBLICITAT\n",
      "Per millorar la gestió de la publicitat mostrada a la nostra pàgina web, per tal que sigui més útil i diversa, i menys repetitiva. Pots activar o desactivar-les.\n",
      "Les cookies de publicitat ens permeten la gestió dels espais publicitaris inclosos en la nostra pàgina web en base a criteris com el contingut mostrat o la freqüència en què es mostren els anuncis.\n",
      "Així per exemple, si se t'ha mostrat diverses vegades un mateix anunci a la nostra pàgina web, i no has mostrat un interès personal fent clic sobre ell, aquest no tornarà a aparèixer. En resum, activant aquest tipus de cookies, la publicitat mostrada a la nostra pàgina web serà més útil i diversa, i menys repetitiva.\n",
      "Pots activar o desactivar aquestes cookies marcant la casella corresponent, estant desactivades per defecte.\n",
      "COOKIES DE PUBLICITAT COMPORTAMENTAL\n",
      "Per mostrar publicitat ajustada a les teves cerques, gustos i interessos personals. Pots activar o desactivar-les.\n",
      "Les cookies de publicitat comportamental ens permeten obtenir informació basada en l'observació dels teus hàbits i comportaments de navegació a la web, a fi de poder mostrar continguts publicitaris que s'ajustin millor als teus gustos i interessos personals.\n",
      "Perquè ho entenguis de manera molt senzilla, et posarem un exemple fictici: si les teves últimes cerques al web estiguessin relacionades amb literatura de suspens, et mostraríem publicitat sobre llibres de suspens.\n",
      "Per tant, activant aquest tipus de cookies, la publicitat que et mostrem a la nostra pàgina web no serà genèrica, sinó que estarà orientada a les teves cerques, gustos i interessos, ajustant-se per tant exclusivament a tu.\n",
      "Pots activar o desactivar aquestes cookies marcant la casella corresponent, estant desactivades per defecte.\n",
      "Configuració de cookies\n",
      "Utilitzem diferents serveis que utilitzen cookies de funcionalitat i personalització, anàlisi, publicitat i publicitat comportamental:\n",
      "Google Analytics:\n",
      "Activar / desactivar Google Analytics\n",
      "Google Webfonts:\n",
      "Activar / Desactivar Google Webfonts\n",
      "Google reCaptcha:\n",
      "Activar / Desactivar Google reCaptcha\n",
      "Vídeos incrustats de Vimeo i Youtube:\n",
      "Activar / Desactivar vídeos de Vimeo i Youtube\n",
      "Google Maps i altres:\n",
      "Activar / Desactivar Google Maps i altres\n",
      "Política de privacitat i de cookies\n",
      "Pots llegir més informació sobre la nostra política de privacitat i de cookies:\n",
      "- Política de privacitat\n",
      "- Política de cookies\n",
      "Acceptar totes les cookiesAcceptar configuració\n",
      "Check to enable permanent hiding of message bar and refuse all cookies if you do not opt in. We need 2 cookies to store this setting. Otherwise you will be prompted again when opening a new browser window or new a tab.\n"
     ]
    }
   ],
   "source": [
    "c = 0\n",
    "for e in d:\n",
    "    c += 1\n",
    "    if c == 10:\n",
    "        print(e['text'])\n",
    "        break"
   ]
  },
  {
   "cell_type": "code",
   "execution_count": 31,
   "metadata": {},
   "outputs": [
    {
     "data": {
      "application/vnd.jupyter.widget-view+json": {
       "model_id": "7d1526c204c842b4b76f77378214b299",
       "version_major": 2,
       "version_minor": 0
      },
      "text/plain": [
       "Generating train split: 0 examples [00:00, ? examples/s]"
      ]
     },
     "metadata": {},
     "output_type": "display_data"
    }
   ],
   "source": [
    "hf_dataset = load_dataset(\"csv\", data_files=\"synthetic_textbooks.csv\")\n"
   ]
  },
  {
   "cell_type": "code",
   "execution_count": 36,
   "metadata": {},
   "outputs": [
    {
     "data": {
      "text/plain": [
       "{'train': ['text',\n",
       "  'field',\n",
       "  'topic',\n",
       "  'subtopic',\n",
       "  'chapter',\n",
       "  'subunit',\n",
       "  'audience']}"
      ]
     },
     "execution_count": 36,
     "metadata": {},
     "output_type": "execute_result"
    }
   ],
   "source": [
    "hf_dataset.column_names"
   ]
  },
  {
   "cell_type": "code",
   "execution_count": 37,
   "metadata": {},
   "outputs": [
    {
     "data": {
      "application/vnd.jupyter.widget-view+json": {
       "model_id": "3b344b3b34af43b88f23eebd15e3d621",
       "version_major": 2,
       "version_minor": 0
      },
      "text/plain": [
       "Filter:   0%|          | 0/306792 [00:00<?, ? examples/s]"
      ]
     },
     "metadata": {},
     "output_type": "display_data"
    }
   ],
   "source": [
    "hf_dataset = hf_dataset.filter(lambda example: example[\"field\"] != \"field\")"
   ]
  },
  {
   "cell_type": "code",
   "execution_count": 38,
   "metadata": {},
   "outputs": [
    {
     "data": {
      "text/plain": [
       "{'train': (273173, 7)}"
      ]
     },
     "execution_count": 38,
     "metadata": {},
     "output_type": "execute_result"
    }
   ],
   "source": [
    "hf_dataset.shape"
   ]
  },
  {
   "cell_type": "code",
   "execution_count": 39,
   "metadata": {},
   "outputs": [
    {
     "data": {
      "application/vnd.jupyter.widget-view+json": {
       "model_id": "7d0976cbf5e6469daa3b17cda2a695f8",
       "version_major": 2,
       "version_minor": 0
      },
      "text/plain": [
       "Uploading the dataset shards:   0%|          | 0/3 [00:00<?, ?it/s]"
      ]
     },
     "metadata": {},
     "output_type": "display_data"
    },
    {
     "data": {
      "application/vnd.jupyter.widget-view+json": {
       "model_id": "66ea38d930314d36a02e67e084e35ab1",
       "version_major": 2,
       "version_minor": 0
      },
      "text/plain": [
       "Creating parquet from Arrow format:   0%|          | 0/92 [00:00<?, ?ba/s]"
      ]
     },
     "metadata": {},
     "output_type": "display_data"
    },
    {
     "data": {
      "application/vnd.jupyter.widget-view+json": {
       "model_id": "49a9985a01ff4453b99edc17c995d645",
       "version_major": 2,
       "version_minor": 0
      },
      "text/plain": [
       "Creating parquet from Arrow format:   0%|          | 0/92 [00:00<?, ?ba/s]"
      ]
     },
     "metadata": {},
     "output_type": "display_data"
    },
    {
     "data": {
      "application/vnd.jupyter.widget-view+json": {
       "model_id": "43095b51ab1d46ba8ce75e00cc3aa58e",
       "version_major": 2,
       "version_minor": 0
      },
      "text/plain": [
       "Creating parquet from Arrow format:   0%|          | 0/92 [00:00<?, ?ba/s]"
      ]
     },
     "metadata": {},
     "output_type": "display_data"
    },
    {
     "name": "stdout",
     "output_type": "stream",
     "text": [
      "Dataset uploaded successfully to Hugging Face!\n"
     ]
    }
   ],
   "source": [
    "from huggingface_hub import create_repo\n",
    "\n",
    "repo_url = create_repo(\"pauhidalgoo/patufet-textbooks-markdown\", repo_type=\"dataset\", private=False)\n",
    "\n",
    "hf_dataset.push_to_hub(\"pauhidalgoo/patufet-textbooks-markdown\")\n",
    "\n",
    "print(\"Dataset uploaded successfully to Hugging Face!\")"
   ]
  },
  {
   "cell_type": "code",
   "execution_count": 40,
   "metadata": {},
   "outputs": [],
   "source": [
    "import re\n",
    "\n",
    "def clean_text(example):\n",
    "    cleaned_text = re.sub(r'[\\*\\#]', '', example['text'])\n",
    "    cleaned_text = re.sub(r'\\n+', '\\n', cleaned_text)\n",
    "    return {'text': cleaned_text}\n"
   ]
  },
  {
   "cell_type": "code",
   "execution_count": 29,
   "metadata": {},
   "outputs": [
    {
     "name": "stdout",
     "output_type": "stream",
     "text": [
      "dict_keys(['text'])\n",
      " Definició i conceptes bàsics\n",
      "L'escriptura creativa, com a branca de la literatura, transcendeix la mera funció comunicativa. No es limita a transmetre informació, sinó que busca explorar la imaginació, generar emocions i crear universos ficticis o reals. Aquesta exploració, realitzada a través de la paraula, es fonamenta en un conjunt de conceptes que permeten definir amb precisió el camp d'acció de l'escriptura creativa.\n",
      "En primer lloc, és crucial distingir entre escriptura creativa i escriptura tècnica. Mentre la primera busca generar emoció, la segona prioritza la precisió i la claredat en la transmissió d'informació. La literatura científica, els informes, els articles acadèmics i la documentació tècnica són exemples d'escriptura tècnica, mentre que la poesia, la novel·la, el teatre i el guió cinematogràfic s'ubiquen en el camp de l'escriptura creativa.\n",
      "No obstant això, la distinció entre aquests dos camps no és tan rígida com podria semblar. Existeixen textos híbrids que combinen elements d'ambdues disciplines. Per exemple, un article de recerca pot incloure descripcions poètiques per a generar un impacte emocional en el lector, mentre que una novel·la pot incorporar elements de diàleg o descripció que necessiten una precisió i claredat pròpies de l'escriptura tècnica.\n",
      "Un altre concepte fonamental per a comprendre l'escriptura creativa és la noció d'imaginació. L'escriptura creativa, com el seu nom indica, es basa en la creació d'universos ficticis o reals a través de la imaginació. Aquesta imaginació pot ser guiada per la realitat, però no necessàriament ha de ser-ho. \n",
      "En aquest sentit, es poden distingir dos tipus d'imaginació: la imaginació realista i la imaginació fantàstica. La primera s'inspira en la realitat, buscant crear universos ficticis que s'assemblen a la vida real. La segona, al contrari, transcendeix la realitat, creant mons imaginaris que no existeixen en el món real. \n",
      "La imaginació fantàstica, però, no està limitada a la creació de mons ficticis. També pot manifestar-se en la creació de personatges imaginaris, idees innovadores, o en la reinterpretació de la realitat des d'una perspectiva personal i subjectiva.\n",
      "La imaginació, com a element central de l'escriptura creativa, no és un concepte estàtic, sinó que està en constant transformació. La nostra imaginació es nodreix de les experiències personals, els coneixements adquirits, la interacció amb el món i la lectura d'altres textos.\n",
      "Per a il·lustrar aquesta idea, podem analitzar l'obra del poeta català Joan Brossa. En els seus poemes, Brossa combina la realitat quotidiana amb elements surrealistes, creant universos poètics on la imaginació es fusiona amb la crítica social. En un poema com \"La pell de la llibertat\", Brossa utilitza la metàfora de la pell per a explorar la idea de la llibertat, un concepte abstracte que s'associa amb la realitat quotidiana.\n",
      "L'escriptura creativa no es limita a la creació de textos ficticis. També inclou la creació de textos no ficticis que s'inspiren en la realitat, però que busquen generar un impacte emocional en el lector. L'assaig literari, la biografia, l'autobiografia i el reportatge literari són exemples d'aquest tipus d'escriptura creativa. \n",
      "En un assaig literari, per exemple, l'autor no es limita a presentar arguments, sinó que busca crear un espai d'reflexió per al lector, explorant temes complexos i polèmics a través de la llengua. La personalitat de l'autor i el seu estil narratiu es converteixen en elements fonamentals per a la construcció d'un assaig literari que captivi el lector.\n",
      "En resum, l'escriptura creativa és un camp ampli i complex que abraça una gran varietat de textos, des de la poesia a la novel·la, passant per l'assaig literari i la biografia.  La seva definició es basa en la combinació de diversos conceptes clau com la imaginació, la creativitat, l'expressió personal i la capacitat de generar emocions en el lector.\n",
      "\n"
     ]
    }
   ],
   "source": [
    "a = \"\"\"## Definició i conceptes bàsics\n",
    "\n",
    "L'escriptura creativa, com a branca de la literatura, transcendeix la mera funció comunicativa. No es limita a transmetre informació, sinó que busca explorar la imaginació, generar emocions i crear universos ficticis o reals. Aquesta exploració, realitzada a través de la paraula, es fonamenta en un conjunt de conceptes que permeten definir amb precisió el camp d'acció de l'escriptura creativa.\n",
    "\n",
    "En primer lloc, és crucial distingir entre escriptura creativa i escriptura tècnica. Mentre la primera busca generar emoció, la segona prioritza la precisió i la claredat en la transmissió d'informació. La literatura científica, els informes, els articles acadèmics i la documentació tècnica són exemples d'escriptura tècnica, mentre que la poesia, la novel·la, el teatre i el guió cinematogràfic s'ubiquen en el camp de l'escriptura creativa.\n",
    "\n",
    "No obstant això, la distinció entre aquests dos camps no és tan rígida com podria semblar. Existeixen textos híbrids que combinen elements d'ambdues disciplines. Per exemple, un article de recerca pot incloure descripcions poètiques per a generar un impacte emocional en el lector, mentre que una novel·la pot incorporar elements de diàleg o descripció que necessiten una precisió i claredat pròpies de l'escriptura tècnica.\n",
    "\n",
    "Un altre concepte fonamental per a comprendre l'escriptura creativa és la noció d'imaginació. L'escriptura creativa, com el seu nom indica, es basa en la creació d'universos ficticis o reals a través de la imaginació. Aquesta imaginació pot ser guiada per la realitat, però no necessàriament ha de ser-ho. \n",
    "\n",
    "En aquest sentit, es poden distingir dos tipus d'imaginació: la imaginació realista i la imaginació fantàstica. La primera s'inspira en la realitat, buscant crear universos ficticis que s'assemblen a la vida real. La segona, al contrari, transcendeix la realitat, creant mons imaginaris que no existeixen en el món real. \n",
    "\n",
    "La imaginació fantàstica, però, no està limitada a la creació de mons ficticis. També pot manifestar-se en la creació de personatges imaginaris, idees innovadores, o en la reinterpretació de la realitat des d'una perspectiva personal i subjectiva.\n",
    "\n",
    "La imaginació, com a element central de l'escriptura creativa, no és un concepte estàtic, sinó que està en constant transformació. La nostra imaginació es nodreix de les experiències personals, els coneixements adquirits, la interacció amb el món i la lectura d'altres textos.\n",
    "\n",
    "Per a il·lustrar aquesta idea, podem analitzar l'obra del poeta català Joan Brossa. En els seus poemes, Brossa combina la realitat quotidiana amb elements surrealistes, creant universos poètics on la imaginació es fusiona amb la crítica social. En un poema com \"La pell de la llibertat\", Brossa utilitza la metàfora de la pell per a explorar la idea de la llibertat, un concepte abstracte que s'associa amb la realitat quotidiana.\n",
    "\n",
    "L'escriptura creativa no es limita a la creació de textos ficticis. També inclou la creació de textos no ficticis que s'inspiren en la realitat, però que busquen generar un impacte emocional en el lector. L'assaig literari, la biografia, l'autobiografia i el reportatge literari són exemples d'aquest tipus d'escriptura creativa. \n",
    "\n",
    "En un assaig literari, per exemple, l'autor no es limita a presentar arguments, sinó que busca crear un espai d'reflexió per al lector, explorant temes complexos i polèmics a través de la llengua. La personalitat de l'autor i el seu estil narratiu es converteixen en elements fonamentals per a la construcció d'un assaig literari que captivi el lector.\n",
    "\n",
    "En resum, l'escriptura creativa és un camp ampli i complex que abraça una gran varietat de textos, des de la poesia a la novel·la, passant per l'assaig literari i la biografia.  La seva definició es basa en la combinació de diversos conceptes clau com la imaginació, la creativitat, l'expressió personal i la capacitat de generar emocions en el lector.\n",
    "\"\"\"\n",
    "\n",
    "d = {\"score\": \"hello\", \"text\": a}\n",
    "d = clean_text(d)\n",
    "print(d.keys())\n",
    "print(d[\"text\"])"
   ]
  },
  {
   "cell_type": "code",
   "execution_count": 41,
   "metadata": {},
   "outputs": [
    {
     "data": {
      "application/vnd.jupyter.widget-view+json": {
       "model_id": "503fa7e948db4590840dbdf10887f9e0",
       "version_major": 2,
       "version_minor": 0
      },
      "text/plain": [
       "Map:   0%|          | 0/273173 [00:00<?, ? examples/s]"
      ]
     },
     "metadata": {},
     "output_type": "display_data"
    }
   ],
   "source": [
    "cleaned_dataset = hf_dataset.map(clean_text)"
   ]
  },
  {
   "cell_type": "code",
   "execution_count": 44,
   "metadata": {},
   "outputs": [
    {
     "data": {
      "text/plain": [
       "{'train': ['text',\n",
       "  'field',\n",
       "  'topic',\n",
       "  'subtopic',\n",
       "  'chapter',\n",
       "  'subunit',\n",
       "  'audience']}"
      ]
     },
     "execution_count": 44,
     "metadata": {},
     "output_type": "execute_result"
    }
   ],
   "source": [
    "hf_dataset.column_names"
   ]
  },
  {
   "cell_type": "code",
   "execution_count": 76,
   "metadata": {},
   "outputs": [
    {
     "data": {
      "application/vnd.jupyter.widget-view+json": {
       "model_id": "84696a645216455497c1a9b7cb126dbd",
       "version_major": 2,
       "version_minor": 0
      },
      "text/plain": [
       "Map:   0%|          | 0/273173 [00:00<?, ? examples/s]"
      ]
     },
     "metadata": {},
     "output_type": "display_data"
    }
   ],
   "source": [
    "audience_order = {\"Kid\": 0, \"High-School\": 1, \"General\": 2, \"College\": 3, \"Researcher\": 4}\n",
    "\n",
    "def map_audience_order(example):\n",
    "    example['audience_order'] = audience_order[example['audience']]\n",
    "    return example\n",
    "\n",
    "dataset = cleaned_dataset.map(map_audience_order)"
   ]
  },
  {
   "cell_type": "code",
   "execution_count": 77,
   "metadata": {},
   "outputs": [],
   "source": [
    "sorted_dataset = dataset.sort('audience_order')"
   ]
  },
  {
   "cell_type": "code",
   "execution_count": 78,
   "metadata": {},
   "outputs": [],
   "source": [
    "import random"
   ]
  },
  {
   "cell_type": "code",
   "execution_count": 79,
   "metadata": {},
   "outputs": [
    {
     "data": {
      "application/vnd.jupyter.widget-view+json": {
       "model_id": "e3b948878c74419884de0c527f39a99f",
       "version_major": 2,
       "version_minor": 0
      },
      "text/plain": [
       "Filter:   0%|          | 0/273173 [00:00<?, ? examples/s]"
      ]
     },
     "metadata": {},
     "output_type": "display_data"
    },
    {
     "data": {
      "application/vnd.jupyter.widget-view+json": {
       "model_id": "11e377f422f3452c8126caae75bf286a",
       "version_major": 2,
       "version_minor": 0
      },
      "text/plain": [
       "Filter:   0%|          | 0/273173 [00:00<?, ? examples/s]"
      ]
     },
     "metadata": {},
     "output_type": "display_data"
    },
    {
     "data": {
      "application/vnd.jupyter.widget-view+json": {
       "model_id": "4192413287d944cc90f9983c55e44e8f",
       "version_major": 2,
       "version_minor": 0
      },
      "text/plain": [
       "Filter:   0%|          | 0/273173 [00:00<?, ? examples/s]"
      ]
     },
     "metadata": {},
     "output_type": "display_data"
    },
    {
     "data": {
      "application/vnd.jupyter.widget-view+json": {
       "model_id": "a1c6b2f97d924c18ae3a4b64d49069b0",
       "version_major": 2,
       "version_minor": 0
      },
      "text/plain": [
       "Filter:   0%|          | 0/273173 [00:00<?, ? examples/s]"
      ]
     },
     "metadata": {},
     "output_type": "display_data"
    },
    {
     "data": {
      "application/vnd.jupyter.widget-view+json": {
       "model_id": "6d06deeef5c5457bbaaba02de0648c5a",
       "version_major": 2,
       "version_minor": 0
      },
      "text/plain": [
       "Filter:   0%|          | 0/273173 [00:00<?, ? examples/s]"
      ]
     },
     "metadata": {},
     "output_type": "display_data"
    }
   ],
   "source": [
    "shuffled_groups = []\n",
    "for audience_category in audience_order.keys():\n",
    "    group = sorted_dataset.filter(lambda x: x['audience'] == audience_category)\n",
    "    shuffled_group = group.shuffle(seed=random.randint(0, 1000))\n",
    "    shuffled_groups.append(shuffled_group)\n"
   ]
  },
  {
   "cell_type": "code",
   "execution_count": 80,
   "metadata": {},
   "outputs": [
    {
     "data": {
      "text/plain": [
       "['text',\n",
       " 'field',\n",
       " 'topic',\n",
       " 'subtopic',\n",
       " 'chapter',\n",
       " 'subunit',\n",
       " 'audience',\n",
       " 'audience_order']"
      ]
     },
     "execution_count": 80,
     "metadata": {},
     "output_type": "execute_result"
    }
   ],
   "source": [
    "shuffled_groups[3]['train'].column_names"
   ]
  },
  {
   "cell_type": "code",
   "execution_count": 81,
   "metadata": {},
   "outputs": [],
   "source": [
    "from datasets import load_dataset, Dataset, concatenate_datasets \n",
    "\n",
    "final_dataset = concatenate_datasets([e['train'] for e in shuffled_groups])"
   ]
  },
  {
   "cell_type": "code",
   "execution_count": 82,
   "metadata": {},
   "outputs": [
    {
     "data": {
      "text/plain": [
       "Dataset({\n",
       "    features: ['text', 'field', 'topic', 'subtopic', 'chapter', 'subunit', 'audience', 'audience_order'],\n",
       "    num_rows: 273173\n",
       "})"
      ]
     },
     "execution_count": 82,
     "metadata": {},
     "output_type": "execute_result"
    }
   ],
   "source": [
    "final_dataset"
   ]
  },
  {
   "cell_type": "code",
   "execution_count": 83,
   "metadata": {},
   "outputs": [],
   "source": [
    "final_dataset = final_dataset.remove_columns(['audience_order'])"
   ]
  },
  {
   "cell_type": "code",
   "execution_count": 89,
   "metadata": {},
   "outputs": [
    {
     "data": {
      "text/plain": [
       "{'text': \"Els auriculars són una eina essencial per a la producció musical, tant per a la mescla com per a la masterització. Ofereixen un entorn d'escolta personalitzat i portable, ideal per a treballar en detalls subtils de l'àudio sense molestar els altres. A més, són imprescindibles per a la gravació de veu i per a la composició musical en moviment.\\nTipus d'auriculars per a la producció musical:\\n Auriculars de monitorització: Aquests auriculars estan dissenyats per a oferir una resposta de freqüència plana i precisa, permetent a l'usuari escoltar l'àudio tal com està en realitat. Són ideals per a la mescla i la masterització, ja que permeten detectar problemes d'àudio que podrien passar desapercebuts en altres tipus d'auriculars. \\n Auriculars de referència: Similar als auriculars de monitorització, però amb un nivell de detall i precisió encara més alt. S'utilitzen principalment per a la masterització professional, on la precisió i la fidelitat del so són de suma importància.\\n Auriculars d'estudi: Ofereixen un equilibri entre la precisió i la comoditat, ideal per a sessions de gravació llargues o per a sessions de mescla casuals. Aquests auriculars solen tenir un preu més assequible que els auriculars de monitorització i de referència.\\n Auriculars intraauriculars: Aquests auriculars s'inserten a l'oïda, aïllant el soroll exterior i oferint un so clar i potent. Són ideals per a treballar en entorns sorollosos, però cal tenir en compte que no sempre ofereixen una resposta de freqüència plana i precisa.\\nCaracterístiques dels auriculars per a la producció musical:\\n Resposta de freqüència: Aquesta característica fa referència al rang de freqüències que els auriculars poden reproduir amb precisió. Els auriculars amb una resposta de freqüència plana són ideals per a la producció musical, ja que permeten escoltar l'àudio tal com està en realitat.\\n Distorsió harmònica total (THD): Mesura la quantitat de distorsió que s'afegeix al senyal d'àudio. Un THD baix indica un so més net i clar.\\n Impedància:  La resistència al flux d'electricitat. Una impedància alta requereix un amplificador més potent per a alimentar els auriculars.\\n Sensibilitat:  La quantitat de pressió sonora que els auriculars generen per a un determinat nivell d'entrada. Una sensibilitat alta indica que els auriculars són més potents i necessiten menys energia per a sonar bé.\\n Aïllament:  La capacitat dels auriculars per a bloquejar el soroll exterior. Aquest factor és important per a treballar en entorns sorollosos.\\nConsells per a la compra d'auriculars per a la producció musical:\\n Prova'ls abans de comprar-los: Assegura't que els auriculars t'aporten la comoditat i la precisió que necessites.\\n Escull auriculars amb una resposta de freqüència plana: Això et permetrà escoltar l'àudio tal com està en realitat.\\n Considera el teu pressupost: Els auriculars de qualitat poden ser cars, però hi ha opcions disponibles per a cada necessitat i pressupost.\\n Investiga sobre diferents models: Llegeix ressenyes i compara característiques abans de prendre una decisió.\\nExercicis:\\n1. Investiga sobre diferents models d'auriculars de monitorització i compara les seves característiques. \\n2. Compara la resposta de freqüència d'un parell d'auriculars de monitorització amb la d'un parell d'auriculars d'estudi.\\n3. Escull un parell d'auriculars que s'adaptin a les teves necessitats i pressupost.\\n4. Explica com la resposta de freqüència dels auriculars pot afectar la mescla i la masterització d'un tema musical.\\n5. Compara els auriculars amb els altaveus de monitorització pel que fa a la seva capacitat per a reproduir el so.\\nA més a més, és important tenir en compte que la utilització d'auriculars durant llargs períodes de temps pot afectar la salut auditiva. Cal prendre descansos regulars i ajustar el volum de manera adequada per a evitar la fatiga auditiva i la pèrdua d'audició.\\nAmb la selecció adequada d'auriculars i amb una utilització responsable, podràs gaudir d'una experiència d'escolta detallada i precisa que t'ajudarà a crear música de qualitat.\\n\",\n",
       " 'field': 'Music',\n",
       " 'topic': 'Music Production',\n",
       " 'subtopic': 'Music Equipment',\n",
       " 'chapter': 'Equipament de monitorització',\n",
       " 'subunit': 'Auriculars',\n",
       " 'audience': 'High-School'}"
      ]
     },
     "execution_count": 89,
     "metadata": {},
     "output_type": "execute_result"
    }
   ],
   "source": [
    "final_dataset[50000]"
   ]
  },
  {
   "cell_type": "code",
   "execution_count": 100,
   "metadata": {},
   "outputs": [],
   "source": [
    "from datasets import load_dataset, DatasetDict\n",
    "from collections import Counter\n",
    "import re\n",
    "\n",
    "def detect_repetitions(text, ngram_size=5, repetition_threshold=15):\n",
    "    words = re.findall(r'\\b\\w+\\b', text)\n",
    "    \n",
    "    ngrams = [' '.join(words[i:i+ngram_size]) for i in range(len(words) - ngram_size + 1)]\n",
    "    \n",
    "    ngram_counts = Counter(ngrams)\n",
    "    \n",
    "    for ngram, count in ngram_counts.items():\n",
    "        if count >= repetition_threshold:\n",
    "            return True\n",
    "    \n",
    "    return False\n",
    "\n",
    "def filter_repetitive_examples(example):\n",
    "    return not detect_repetitions(example['text'])\n"
   ]
  },
  {
   "cell_type": "code",
   "execution_count": 101,
   "metadata": {},
   "outputs": [
    {
     "data": {
      "application/vnd.jupyter.widget-view+json": {
       "model_id": "078ba8e735564e71b7ffdc3f5f955ab9",
       "version_major": 2,
       "version_minor": 0
      },
      "text/plain": [
       "Filter:   0%|          | 0/273173 [00:00<?, ? examples/s]"
      ]
     },
     "metadata": {},
     "output_type": "display_data"
    }
   ],
   "source": [
    "filtered_dataset = final_dataset.filter(filter_repetitive_examples)"
   ]
  },
  {
   "cell_type": "code",
   "execution_count": 102,
   "metadata": {},
   "outputs": [
    {
     "data": {
      "text/plain": [
       "(271284, 7)"
      ]
     },
     "execution_count": 102,
     "metadata": {},
     "output_type": "execute_result"
    }
   ],
   "source": [
    "filtered_dataset.shape"
   ]
  },
  {
   "cell_type": "code",
   "execution_count": 104,
   "metadata": {},
   "outputs": [
    {
     "data": {
      "application/vnd.jupyter.widget-view+json": {
       "model_id": "5061969759b345dbbfe464480fd64463",
       "version_major": 2,
       "version_minor": 0
      },
      "text/plain": [
       "Uploading the dataset shards:   0%|          | 0/3 [00:00<?, ?it/s]"
      ]
     },
     "metadata": {},
     "output_type": "display_data"
    },
    {
     "data": {
      "application/vnd.jupyter.widget-view+json": {
       "model_id": "bd893fbdbcab435e9fd6099341c53877",
       "version_major": 2,
       "version_minor": 0
      },
      "text/plain": [
       "Creating parquet from Arrow format:   0%|          | 0/91 [00:00<?, ?ba/s]"
      ]
     },
     "metadata": {},
     "output_type": "display_data"
    },
    {
     "data": {
      "application/vnd.jupyter.widget-view+json": {
       "model_id": "de363760ae8740e2902121aef6bc55e6",
       "version_major": 2,
       "version_minor": 0
      },
      "text/plain": [
       "Creating parquet from Arrow format:   0%|          | 0/91 [00:00<?, ?ba/s]"
      ]
     },
     "metadata": {},
     "output_type": "display_data"
    },
    {
     "data": {
      "application/vnd.jupyter.widget-view+json": {
       "model_id": "b77158561c594ce0a822031c427336a7",
       "version_major": 2,
       "version_minor": 0
      },
      "text/plain": [
       "Creating parquet from Arrow format:   0%|          | 0/91 [00:00<?, ?ba/s]"
      ]
     },
     "metadata": {},
     "output_type": "display_data"
    },
    {
     "name": "stdout",
     "output_type": "stream",
     "text": [
      "Dataset uploaded successfully to Hugging Face!\n"
     ]
    }
   ],
   "source": [
    "from huggingface_hub import create_repo\n",
    "\n",
    "repo_url = create_repo(\"pauhidalgoo/patufet-textbooks\", repo_type=\"dataset\", private=False)\n",
    "\n",
    "filtered_dataset.push_to_hub(\"pauhidalgoo/patufet-textbooks\")\n",
    "\n",
    "print(\"Dataset uploaded successfully to Hugging Face!\")"
   ]
  },
  {
   "cell_type": "code",
   "execution_count": 3,
   "metadata": {},
   "outputs": [
    {
     "data": {
      "application/vnd.jupyter.widget-view+json": {
       "model_id": "a229b241431843188eb2493099ed72e3",
       "version_major": 2,
       "version_minor": 0
      },
      "text/plain": [
       "Downloading readme:   0%|          | 0.00/514 [00:00<?, ?B/s]"
      ]
     },
     "metadata": {},
     "output_type": "display_data"
    },
    {
     "data": {
      "application/vnd.jupyter.widget-view+json": {
       "model_id": "ed54c513fdd6479eb814d21a479470ce",
       "version_major": 2,
       "version_minor": 0
      },
      "text/plain": [
       "Downloading data:   0%|          | 0.00/192M [00:00<?, ?B/s]"
      ]
     },
     "metadata": {},
     "output_type": "display_data"
    },
    {
     "data": {
      "application/vnd.jupyter.widget-view+json": {
       "model_id": "1ac004bc2c164ecaab23149e6deceb03",
       "version_major": 2,
       "version_minor": 0
      },
      "text/plain": [
       "Downloading data:   0%|          | 0.00/241M [00:00<?, ?B/s]"
      ]
     },
     "metadata": {},
     "output_type": "display_data"
    },
    {
     "data": {
      "application/vnd.jupyter.widget-view+json": {
       "model_id": "77231feadafa487b94862df3080a6985",
       "version_major": 2,
       "version_minor": 0
      },
      "text/plain": [
       "Downloading data:   0%|          | 0.00/278M [00:00<?, ?B/s]"
      ]
     },
     "metadata": {},
     "output_type": "display_data"
    },
    {
     "data": {
      "application/vnd.jupyter.widget-view+json": {
       "model_id": "6c430f5606db43deaa022928b113157f",
       "version_major": 2,
       "version_minor": 0
      },
      "text/plain": [
       "Generating train split:   0%|          | 0/271284 [00:00<?, ? examples/s]"
      ]
     },
     "metadata": {},
     "output_type": "display_data"
    },
    {
     "ename": "NameError",
     "evalue": "name 'filtered_dataset' is not defined",
     "output_type": "error",
     "traceback": [
      "\u001b[1;31m---------------------------------------------------------------------------\u001b[0m",
      "\u001b[1;31mNameError\u001b[0m                                 Traceback (most recent call last)",
      "Cell \u001b[1;32mIn[3], line 22\u001b[0m\n\u001b[0;32m     19\u001b[0m     \u001b[38;5;28;01mreturn\u001b[39;00m total_tokens\n\u001b[0;32m     21\u001b[0m dataset \u001b[38;5;241m=\u001b[39m load_dataset(\u001b[38;5;124m\"\u001b[39m\u001b[38;5;124mpauhidalgoo/patufet-textbooks\u001b[39m\u001b[38;5;124m\"\u001b[39m, split\u001b[38;5;241m=\u001b[39m\u001b[38;5;124m\"\u001b[39m\u001b[38;5;124mtrain\u001b[39m\u001b[38;5;124m\"\u001b[39m)\n\u001b[1;32m---> 22\u001b[0m count_tokens(\u001b[43mfiltered_dataset\u001b[49m, \u001b[38;5;124m'\u001b[39m\u001b[38;5;124mprojecte-aina/roberta-base-ca-v2\u001b[39m\u001b[38;5;124m'\u001b[39m, \u001b[38;5;124m'\u001b[39m\u001b[38;5;124mtext\u001b[39m\u001b[38;5;124m'\u001b[39m)\n",
      "\u001b[1;31mNameError\u001b[0m: name 'filtered_dataset' is not defined"
     ]
    }
   ],
   "source": [
    "# counting_tokens\n",
    "\n",
    "from datasets import load_dataset\n",
    "from transformers import AutoTokenizer\n",
    "\n",
    "def count_tokens(dataset,  tokenizer_name, text_column):\n",
    "    # Load the tokenizer\n",
    "    tokenizer = AutoTokenizer.from_pretrained(tokenizer_name)\n",
    "\n",
    "    # Initialize a token count\n",
    "    total_tokens = 0\n",
    "\n",
    "    for example in dataset:\n",
    "        # Tokenize the text\n",
    "        tokens = tokenizer(example[text_column], truncation=False, padding=False)\n",
    "\n",
    "        total_tokens += len(tokens['input_ids'])\n",
    "\n",
    "    return total_tokens\n",
    "\n",
    "dataset = load_dataset(\"pauhidalgoo/patufet-textbooks\", split=\"train\")"
   ]
  },
  {
   "cell_type": "code",
   "execution_count": 4,
   "metadata": {},
   "outputs": [
    {
     "name": "stderr",
     "output_type": "stream",
     "text": [
      "Token indices sequence length is longer than the specified maximum sequence length for this model (595 > 512). Running this sequence through the model will result in indexing errors\n"
     ]
    },
    {
     "data": {
      "text/plain": [
       "293779234"
      ]
     },
     "execution_count": 4,
     "metadata": {},
     "output_type": "execute_result"
    }
   ],
   "source": [
    "count_tokens(dataset, 'projecte-aina/roberta-base-ca-v2', 'text')"
   ]
  }
 ],
 "metadata": {
  "kernelspec": {
   "display_name": "Python 3",
   "language": "python",
   "name": "python3"
  },
  "language_info": {
   "codemirror_mode": {
    "name": "ipython",
    "version": 3
   },
   "file_extension": ".py",
   "mimetype": "text/x-python",
   "name": "python",
   "nbconvert_exporter": "python",
   "pygments_lexer": "ipython3",
   "version": "3.11.9"
  }
 },
 "nbformat": 4,
 "nbformat_minor": 2
}
