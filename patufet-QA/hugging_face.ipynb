{
 "cells": [
  {
   "cell_type": "code",
   "execution_count": 1,
   "metadata": {},
   "outputs": [
    {
     "data": {
      "text/plain": [
       "RepoUrl('https://huggingface.co/datasets/baiges/patufet-QA', endpoint='https://huggingface.co', repo_type='dataset', repo_id='baiges/patufet-QA')"
      ]
     },
     "execution_count": 1,
     "metadata": {},
     "output_type": "execute_result"
    }
   ],
   "source": [
    "from huggingface_hub import HfApi, HfFolder\n",
    "\n",
    "# Initialize the API\n",
    "api = HfApi()\n",
    "\n",
    "# Create a new dataset repository\n",
    "repo_id = \"baiges/patufet-QA\"\n",
    "api.create_repo(repo_id=repo_id, repo_type=\"dataset\")"
   ]
  },
  {
   "cell_type": "code",
   "execution_count": 3,
   "metadata": {},
   "outputs": [
    {
     "data": {
      "application/vnd.jupyter.widget-view+json": {
       "model_id": "8bf0d5f9e18d4598b116d4501ae3811a",
       "version_major": 2,
       "version_minor": 0
      },
      "text/plain": [
       "patufet-QA.csv:   0%|          | 0.00/245M [00:00<?, ?B/s]"
      ]
     },
     "metadata": {},
     "output_type": "display_data"
    },
    {
     "data": {
      "text/plain": [
       "CommitInfo(commit_url='https://huggingface.co/datasets/baiges/patufet-QA/commit/19a04f85e048f1267612c6860c1140d206fd5164', commit_message='Upload patufet-QA.csv with huggingface_hub', commit_description='', oid='19a04f85e048f1267612c6860c1140d206fd5164', pr_url=None, pr_revision=None, pr_num=None)"
      ]
     },
     "execution_count": 3,
     "metadata": {},
     "output_type": "execute_result"
    }
   ],
   "source": [
    "from huggingface_hub import upload_file\n",
    "\n",
    "# Path to the cleaned CSV file\n",
    "file_path = \"patufet-QA.csv\"\n",
    "\n",
    "# Upload the file\n",
    "upload_file(\n",
    "    path_or_fileobj=file_path,\n",
    "    path_in_repo=\"patufet-QA.csv\",  # Destination file name in the repository\n",
    "    repo_id=repo_id,\n",
    "    repo_type=\"dataset\"\n",
    ")"
   ]
  }
 ],
 "metadata": {
  "kernelspec": {
   "display_name": "Python 3",
   "language": "python",
   "name": "python3"
  },
  "language_info": {
   "codemirror_mode": {
    "name": "ipython",
    "version": 3
   },
   "file_extension": ".py",
   "mimetype": "text/x-python",
   "name": "python",
   "nbconvert_exporter": "python",
   "pygments_lexer": "ipython3",
   "version": "3.10.6"
  }
 },
 "nbformat": 4,
 "nbformat_minor": 2
}
