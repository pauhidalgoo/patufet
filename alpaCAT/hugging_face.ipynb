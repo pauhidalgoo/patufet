{
 "cells": [
  {
   "cell_type": "code",
   "execution_count": 95,
   "metadata": {},
   "outputs": [
    {
     "data": {
      "text/plain": [
       "RepoUrl('https://huggingface.co/datasets/baiges/alpaCAT', endpoint='https://huggingface.co', repo_type='dataset', repo_id='baiges/alpaCAT')"
      ]
     },
     "execution_count": 95,
     "metadata": {},
     "output_type": "execute_result"
    }
   ],
   "source": [
    "from huggingface_hub import HfApi, HfFolder\n",
    "\n",
    "# Initialize the API\n",
    "api = HfApi()\n",
    "\n",
    "# Create a new dataset repository\n",
    "repo_id = \"baiges/alpaCAT\"\n",
    "api.create_repo(repo_id=repo_id, repo_type=\"dataset\")"
   ]
  },
  {
   "cell_type": "code",
   "execution_count": 96,
   "metadata": {},
   "outputs": [
    {
     "data": {
      "application/vnd.jupyter.widget-view+json": {
       "model_id": "fe9aeea44f264ac08578e3a87b4781b2",
       "version_major": 2,
       "version_minor": 0
      },
      "text/plain": [
       "alpaCAT.csv:   0%|          | 0.00/32.7M [00:00<?, ?B/s]"
      ]
     },
     "metadata": {},
     "output_type": "display_data"
    },
    {
     "data": {
      "text/plain": [
       "CommitInfo(commit_url='https://huggingface.co/datasets/baiges/alpaCAT/commit/63165557f50c7471a08a34312e2bdc149d301c9f', commit_message='Upload alpaCAT.csv with huggingface_hub', commit_description='', oid='63165557f50c7471a08a34312e2bdc149d301c9f', pr_url=None, pr_revision=None, pr_num=None)"
      ]
     },
     "execution_count": 96,
     "metadata": {},
     "output_type": "execute_result"
    }
   ],
   "source": [
    "from huggingface_hub import upload_file\n",
    "\n",
    "# Path to the cleaned CSV file\n",
    "file_path = \"alpaCAT.csv\"\n",
    "\n",
    "# Upload the file\n",
    "upload_file(\n",
    "    path_or_fileobj=file_path,\n",
    "    path_in_repo=\"alpaCAT.csv\",  # Destination file name in the repository\n",
    "    repo_id=repo_id,\n",
    "    repo_type=\"dataset\"\n",
    ")"
   ]
  }
 ],
 "metadata": {
  "kernelspec": {
   "display_name": "Python 3",
   "language": "python",
   "name": "python3"
  },
  "language_info": {
   "codemirror_mode": {
    "name": "ipython",
    "version": 3
   },
   "file_extension": ".py",
   "mimetype": "text/x-python",
   "name": "python",
   "nbconvert_exporter": "python",
   "pygments_lexer": "ipython3",
   "version": "3.10.6"
  }
 },
 "nbformat": 4,
 "nbformat_minor": 2
}
