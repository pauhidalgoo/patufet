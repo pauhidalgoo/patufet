{
 "cells": [
  {
   "cell_type": "code",
   "execution_count": 1,
   "metadata": {},
   "outputs": [
    {
     "name": "stdout",
     "output_type": "stream",
     "text": [
      "CSV file 'patufet-summaries.csv' has been created successfully.\n"
     ]
    }
   ],
   "source": [
    "import pandas as pd\n",
    "\n",
    "# Step 1: Read the CSV files\n",
    "df_old = pd.read_csv('patufet-summaries-old.csv')\n",
    "df_empty = pd.read_csv('empty_examples.csv')\n",
    "\n",
    "# Step 2: Concatenate the DataFrames\n",
    "combined_df = pd.concat([df_old, df_empty], ignore_index=True)\n",
    "\n",
    "# Step 3: Shuffle the combined DataFrame\n",
    "shuffled_df = combined_df.sample(frac=1).reset_index(drop=True)\n",
    "\n",
    "# Step 4: Save to a new CSV file\n",
    "shuffled_df.to_csv('patufet-summaries.csv', index=False)\n",
    "\n",
    "print(\"CSV file 'patufet-summaries.csv' has been created successfully.\")"
   ]
  },
  {
   "cell_type": "code",
   "execution_count": 2,
   "metadata": {},
   "outputs": [
    {
     "data": {
      "text/plain": [
       "RepoUrl('https://huggingface.co/datasets/baiges/patufet-summaries', endpoint='https://huggingface.co', repo_type='dataset', repo_id='baiges/patufet-summaries')"
      ]
     },
     "execution_count": 2,
     "metadata": {},
     "output_type": "execute_result"
    }
   ],
   "source": [
    "from huggingface_hub import HfApi, HfFolder\n",
    "\n",
    "# Initialize the API\n",
    "api = HfApi()\n",
    "\n",
    "# Create a new dataset repository\n",
    "repo_id = \"baiges/patufet-summaries\"\n",
    "api.create_repo(repo_id=repo_id, repo_type=\"dataset\")"
   ]
  },
  {
   "cell_type": "code",
   "execution_count": 3,
   "metadata": {},
   "outputs": [
    {
     "data": {
      "text/plain": [
       "CommitInfo(commit_url='https://huggingface.co/datasets/baiges/patufet-summaries/commit/63b02d11067f6409feb338861945f4ac530159f4', commit_message='Upload patufet-summaries.csv with huggingface_hub', commit_description='', oid='63b02d11067f6409feb338861945f4ac530159f4', pr_url=None, pr_revision=None, pr_num=None)"
      ]
     },
     "execution_count": 3,
     "metadata": {},
     "output_type": "execute_result"
    }
   ],
   "source": [
    "from huggingface_hub import upload_file\n",
    "\n",
    "# Path to the cleaned CSV file\n",
    "file_path = \"patufet-summaries.csv\"\n",
    "\n",
    "# Upload the file\n",
    "upload_file(\n",
    "    path_or_fileobj=file_path,\n",
    "    path_in_repo=\"patufet-summaries.csv\",  # Destination file name in the repository\n",
    "    repo_id=repo_id,\n",
    "    repo_type=\"dataset\"\n",
    ")"
   ]
  }
 ],
 "metadata": {
  "kernelspec": {
   "display_name": "Python 3",
   "language": "python",
   "name": "python3"
  },
  "language_info": {
   "codemirror_mode": {
    "name": "ipython",
    "version": 3
   },
   "file_extension": ".py",
   "mimetype": "text/x-python",
   "name": "python",
   "nbconvert_exporter": "python",
   "pygments_lexer": "ipython3",
   "version": "3.10.6"
  }
 },
 "nbformat": 4,
 "nbformat_minor": 2
}
