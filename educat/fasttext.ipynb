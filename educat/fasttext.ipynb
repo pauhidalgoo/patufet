{
 "cells": [
  {
   "cell_type": "code",
   "execution_count": null,
   "metadata": {},
   "outputs": [],
   "source": [
    "import pandas as pd\n",
    "import fasttext\n",
    "import fasttext.util\n",
    "import re\n",
    "from sklearn.model_selection import train_test_split\n",
    "\n",
    "data = pd.read_csv('./oscar_educational_scores_responses.csv')\n",
    "\n",
    "def preprocess_text(text):\n",
    "    text = text.lower()\n",
    "    text = re.sub(r'\\d+', '', text)\n",
    "    text = re.sub(r'\\W+', ' ', text)\n",
    "    text = text.strip()\n",
    "    return text\n",
    "\n",
    "data['text'] = data['text'].apply(preprocess_text)\n",
    "\n",
    "data['fasttext_format'] = '__label__' + data['Educational score'].astype(str) + ' ' + data['text']\n",
    "\n",
    "train_data, test_data = train_test_split(data['fasttext_format'], test_size=0.2, random_state=42)\n",
    "\n",
    "train_file = 'train.txt'\n",
    "test_file = 'test.txt'"
   ]
  },
  {
   "cell_type": "code",
   "execution_count": 13,
   "metadata": {},
   "outputs": [
    {
     "data": {
      "image/png": "[encoded data removed]",
      "text/plain": [
       "<Figure size 640x480 with 1 Axes>"
      ]
     },
     "metadata": {},
     "output_type": "display_data"
    }
   ],
   "source": [
    "import matplotlib.pyplot as plt\n",
    "data['Educational score'].value_counts().sort_index().plot(kind='bar')\n",
    "plt.title('Distribution of Educational Score')\n",
    "plt.xlabel('Educational Score')\n",
    "plt.ylabel('Frequency')\n",
    "plt.show()"
   ]
  },
  {
   "cell_type": "code",
   "execution_count": 3,
   "metadata": {},
   "outputs": [],
   "source": [
    "with open(train_file, 'w', encoding=\"utf-8\") as f:\n",
    "    f.write('\\n'.join(train_data))\n",
    "\n",
    "with open(test_file, 'w', encoding=\"utf-8\") as f:\n",
    "    f.write('\\n'.join(test_data))"
   ]
  },
  {
   "cell_type": "code",
   "execution_count": 16,
   "metadata": {},
   "outputs": [],
   "source": [
    "\n",
    "model = fasttext.train_supervised(input=train_file, epoch=25, lr=0.5, wordNgrams=2, verbose=2, minCount=1)"
   ]
  },
  {
   "cell_type": "code",
   "execution_count": 17,
   "metadata": {},
   "outputs": [
    {
     "data": {
      "text/plain": [
       "(20000, 0.51825, 0.51825)"
      ]
     },
     "execution_count": 17,
     "metadata": {},
     "output_type": "execute_result"
    }
   ],
   "source": [
    "model.test(test_file)"
   ]
  },
  {
   "cell_type": "code",
   "execution_count": 23,
   "metadata": {},
   "outputs": [],
   "source": [
    "model.save_model(\"./classifier.bin\")"
   ]
  },
  {
   "cell_type": "code",
   "execution_count": 24,
   "metadata": {},
   "outputs": [
    {
     "data": {
      "text/plain": [
       "(('__label__2',), array([0.50484705]))"
      ]
     },
     "execution_count": 24,
     "metadata": {},
     "output_type": "execute_result"
    }
   ],
   "source": [
    "model.predict(\"Els Camins de la Música: Un monument de la música (i del Jazz) el Kind of Blue de Miles Davis Un monument de la música (i del Jazz) el Kind of Blue de Miles Davis 1959 va ser l'any en què determinats crítics musical varen sentenciar: El jazz està mort. Sota aqueixa làpida ontològica de proporcions nietszcheanes l'avantguarda jazzística nord-americana s'alliberava per a ser. En tota l'expressió. Ser música, més enllà del seu fonament, de la tradició. Mai com llavors es va registrar una efervescència creativa tan diversa i transcendent en els anals del jazz. Una efervescència concreta: cinc dels àlbums que van ser gravats o ben llançats en aqueix any van xifrar les rutes de subgèneres tan heterogenis com el free jazz, el jazz modal o el third stream (tercer corrent)...i el rock i la música d'avantguarda, la música electrònica i... Aquests discs varen ser: - The Shape of Jazz to come, Ornette Coleman - Time out, The Dave Brubeck Quartet - Mingus Ah Um, Charles Mingus Hui li toca al Kind of Blue. És un àlbum d'estudi de Miles Davis, publicat el 17 d'agost de 1959 a Columbia Records. Les sessions d'enregistrament d'aquest àlbum van tenir lloc als Columbia 30th Street Studio, a la ciutat de Nova York el 2 de març i el 22 d'abril de 1959. En aquestes sessions és presentava el sextet liderat per Miles Davis, amb el pianista Bill Evans, el bateria Jimmy Cobb, el baxista Paul Chambers i els saxofonistes John Coltrane i Cannonball Adderley. La producció va anar a càrrec del mag Teo Macero i Irving Townsend. Després de la inclusió de Bill Evans en el seu sextet,un music blanc en un grup de negres, cosa que li va molestar prou a John Coltrane, Davis va seguir experimentant el jazz modal tal com ja havia començat a fer a Milestones. Bill Evans va presentar a Miles a compositors clàssics, com Bela Bartok i Maurice Ravel, els qui utilitzaven harmonies modals en les seues composicions. Davis també es va basar en el seu coneixement de les qualitats modals en el blues. L'àlbum és basa totalment en l'estil modal en contrast amb els seus treballs anteriors en l'estil Hard Bop i els seves complexes progressións d'acords i improvisacions. Malgrat certes diferències en els xifres, Kind of Blue ha estat citat per molts crítics com l'àlbum més venut de Miles Davis, i també com l'enregistrament de jazz més venut de tots els temps. El 7 d'octubre de 2008, l'àlbum va ser certificat com a quàdruple platí en vendes per la Recording Industry Association of America (RIAA). També ha estat considerat per molts crítics com el millor àlbum de jazz de tots els temps i l'obra mestra de Davis, i ha estat classificat en els primers llocs dels llistes de millor àlbum de gèneres dispars. La influència de l'àlbum en la música, incloent-hi el jazz, el rock i la música clàssica, ha portat els escriptors de música a reconèixer-ho com un dels àlbums més influents de tot el temps. El 2002, va ser un dels cinquanta enregistraments escollits aquell any per la Biblioteca de Congrés dels EUA per ser afegit al Registre Nacional d'Enregistraments. És un àlbum que no es pot escoltar una sola vegada, cal fer-ho vàries vegades per descobrir tota la seua riquesa, les harmonies de Evans, les meravelloses improvisacions de Coltrane i Adderley i, per suposat, les màgiques intervencions de Miles Davis, junt amb la ma mestra del productor Teo Macero. Un clàssic entre els clàssics de qualsevol classe de música. Una obra mestra definitiva i una peça que va influenciar, influència i influenciarà tota la història de la música. De qualsevol tipus de música. Una obra cabdal. Etiquetes de comentaris: Bela Bartok, Bill Evans, Cannonball Adderley, John Coltrane, Kind of Blue, Miles Davis, Programes, Teo Macero\", k=1)"
   ]
  },
  {
   "cell_type": "code",
   "execution_count": 27,
   "metadata": {},
   "outputs": [],
   "source": [
    "from datasets import load_dataset\n",
    "from tqdm import tqdm"
   ]
  },
  {
   "cell_type": "code",
   "execution_count": 28,
   "metadata": {},
   "outputs": [],
   "source": [
    "dataset = load_dataset(\"uonlp/CulturaX\", \"ca\", split=\"train\", streaming=True)\n",
    "\n",
    "def process_chunk(chunk):\n",
    "    processed_texts = chunk['text'].apply(preprocess_text)\n",
    "    predicted_labels = processed_texts.apply(lambda x: int(model.predict(x)[0][0].replace('__label__', '')))\n",
    "    \n",
    "    chunk['predicted_label'] = predicted_labels\n",
    "    filtered_chunk = chunk[chunk['predicted_label'].isin([3, 4, 5])]\n",
    "    \n",
    "    return chunk, filtered_chunk\n",
    "\n",
    "chunk_size = 100000\n",
    "total_size = 15531777\n",
    "\n",
    "with tqdm(total=total_size, desc=\"Processing dataset\") as pbar:\n",
    "    chunk = []\n",
    "    for i, entry in enumerate(dataset):\n",
    "        chunk.append(entry)\n",
    "        \n",
    "        if len(chunk) == chunk_size:\n",
    "            chunk_df = pd.DataFrame(chunk)\n",
    "            chunk, filtered_chunk = process_chunk(chunk_df)\n",
    "            \n",
    "            filtered_chunk.to_csv('culturaX_filtered.csv', mode='a', header=not i, index=False, columns=list(chunk.columns) + ['predicted_label'])\n",
    "            chunk.to_csv('culturaX_tagged.csv', mode='a', header=not i, index=False, columns=list(chunk.columns) + ['predicted_label'])\n",
    "            \n",
    "            pbar.update(len(chunk))\n",
    "            \n",
    "            chunk = []\n",
    "    \n",
    "    if chunk:\n",
    "        chunk_df = pd.DataFrame(chunk)\n",
    "        chunk, filtered_chunk = process_chunk(chunk_df)\n",
    "        \n",
    "        filtered_chunk.to_csv('culturaX_filtered.csv', mode='a', header=not i, index=False, columns=list(chunk.columns) + ['predicted_label'])\n",
    "        \n",
    "        chunk.to_csv('culturaX_tagged.csv', mode='a', header=not i, index=False, columns=list(chunk.columns) + ['predicted_label'])\n",
    "        \n",
    "        pbar.update(len(chunk))\n",
    "print(\"Processing complete. Filtered results saved to 'culturaX_filtered.csv'.\")"
   ]
  }
 ],
 "metadata": {
  "kernelspec": {
   "display_name": "Python 3",
   "language": "python",
   "name": "python3"
  },
  "language_info": {
   "codemirror_mode": {
    "name": "ipython",
    "version": 3
   },
   "file_extension": ".py",
   "mimetype": "text/x-python",
   "name": "python",
   "nbconvert_exporter": "python",
   "pygments_lexer": "ipython3",
   "version": "3.11.9"
  }
 },
 "nbformat": 4,
 "nbformat_minor": 2
}
