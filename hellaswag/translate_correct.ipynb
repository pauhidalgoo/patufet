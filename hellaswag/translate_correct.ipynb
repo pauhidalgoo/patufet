{
 "cells": [
  {
   "cell_type": "code",
   "execution_count": 2,
   "metadata": {},
   "outputs": [],
   "source": [
    "import json\n",
    "import asyncio\n",
    "from google.generativeai.types import HarmCategory, HarmBlockThreshold\n",
    "import google.generativeai as genai\n",
    "from dotenv import load_dotenv\n",
    "import os\n",
    "load_dotenv()\n",
    "\n",
    "\n",
    "genai.configure(api_key=os.environ['GEMINI_API_KEY'])\n",
    "model = genai.GenerativeModel(\"gemini-1.5-flash\")\n"
   ]
  },
  {
   "cell_type": "code",
   "execution_count": 4,
   "metadata": {},
   "outputs": [],
   "source": [
    "async def translate_entry(entry, semaphore):\n",
    "    async with semaphore:\n",
    "        prompt = f\"\"\"\n",
    "        Translate the following text from English to Catalan:\n",
    "        1. activity_label: {entry['activity_label']}\n",
    "        2. ctx_a: {entry['ctx_a']}\n",
    "        3. ctx_b: {entry['ctx_b']}\n",
    "        4. ctx: {entry['ctx']}\n",
    "        5. endings: {entry['endings']}\n",
    "\n",
    "        The output format should be:\n",
    "        1: TRANSLATION OF ACTIVITY LABEL\n",
    "        2: TRANSLATION OF CTX_A\n",
    "        3: TRANSLATION OF CTX_B\n",
    "        4: TRANSLATION OF CTX\n",
    "        5: TRANSLATION OF ENDINGS\n",
    "\n",
    "        As you can see, each translation is separated by a new line and indicated using 1: .\n",
    "        \"\"\"\n",
    "\n",
    "        try:\n",
    "            response = await model.generate_content_async(\n",
    "                prompt,\n",
    "                safety_settings={\n",
    "                    HarmCategory.HARM_CATEGORY_HATE_SPEECH: HarmBlockThreshold.BLOCK_ONLY_HIGH,\n",
    "                    HarmCategory.HARM_CATEGORY_HARASSMENT: HarmBlockThreshold.BLOCK_ONLY_HIGH,\n",
    "                    HarmCategory.HARM_CATEGORY_DANGEROUS_CONTENT: HarmBlockThreshold.BLOCK_ONLY_HIGH,\n",
    "                    HarmCategory.HARM_CATEGORY_SEXUALLY_EXPLICIT: HarmBlockThreshold.BLOCK_ONLY_HIGH\n",
    "                }\n",
    "            )\n",
    "\n",
    "            translated_text = response.results[0].text.split('\\n')\n",
    "\n",
    "            entry['activity_label'] = translated_text[0].split(': ')[1]\n",
    "            entry['ctx_a'] = translated_text[1].split(': ')[1]\n",
    "            entry['ctx_b'] = translated_text[2].split(': ')[1]\n",
    "            entry['ctx'] = translated_text[3].split(': ')[1]\n",
    "            entry['endings'] = json.loads(translated_text[4].split(': ')[1])\n",
    "\n",
    "            return entry\n",
    "        except Exception as e:\n",
    "            print(f\"{entry}.ERROR: {e}\")\n",
    "            return None\n",
    "\n",
    "async def translate_dataset(input_file, output_file):\n",
    "    semaphore = asyncio.Semaphore(40)\n",
    "    translated_entries = []\n",
    "\n",
    "    with open(input_file, 'r') as infile:\n",
    "        tasks = []\n",
    "        for line in infile:\n",
    "            entry = json.loads(line.strip())\n",
    "            tasks.append(translate_entry(entry, semaphore))\n",
    "\n",
    "        translated_entries = await asyncio.gather(*tasks)\n",
    "    \n",
    "    translated_entries = [entry for entry in translated_entries if entry is not None]\n",
    "\n",
    "    with open(output_file, 'w') as outfile:\n",
    "        for entry in translated_entries:\n",
    "            outfile.write(json.dumps(entry) + '\\n')"
   ]
  },
  {
   "cell_type": "code",
   "execution_count": 5,
   "metadata": {},
   "outputs": [
    {
     "data": {
      "text/plain": [
       "<Task pending name='Task-5' coro=<main() running at C:\\Users\\Usuario\\AppData\\Local\\Temp\\ipykernel_21284\\55873255.py:1>>"
      ]
     },
     "execution_count": 5,
     "metadata": {},
     "output_type": "execute_result"
    }
   ],
   "source": [
    "async def main():\n",
    "    input_file = 'input_data.jsonl'\n",
    "    output_file = 'translated_data.jsonl'\n",
    "    await translate_dataset(input_file, output_file)\n",
    "\n",
    "loop = asyncio.get_running_loop()\n",
    "loop.create_task(main())"
   ]
  },
  {
   "cell_type": "code",
   "execution_count": 7,
   "metadata": {},
   "outputs": [
    {
     "data": {
      "text/plain": [
       "<coroutine object main at 0x000001FF0D9F1620>"
      ]
     },
     "execution_count": 7,
     "metadata": {},
     "output_type": "execute_result"
    }
   ],
   "source": [
    "main()"
   ]
  }
 ],
 "metadata": {
  "kernelspec": {
   "display_name": "Python 3",
   "language": "python",
   "name": "python3"
  },
  "language_info": {
   "codemirror_mode": {
    "name": "ipython",
    "version": 3
   },
   "file_extension": ".py",
   "mimetype": "text/x-python",
   "name": "python",
   "nbconvert_exporter": "python",
   "pygments_lexer": "ipython3",
   "version": "3.11.9"
  }
 },
 "nbformat": 4,
 "nbformat_minor": 2
}
