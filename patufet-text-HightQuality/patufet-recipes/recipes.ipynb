{
 "cells": [
  {
   "cell_type": "code",
   "execution_count": 1,
   "metadata": {},
   "outputs": [
    {
     "name": "stdout",
     "output_type": "stream",
     "text": [
      "280\n"
     ]
    }
   ],
   "source": [
    "import re\n",
    "import csv\n",
    "import pandas as pd\n",
    "\n",
    "# Llegeix el contingut de l'arxiu info.txt\n",
    "with open('recipes.txt', 'r', encoding='utf-8') as file:\n",
    "    text = file.read()\n",
    "\n",
    "# Utilitza expressions regulars per extreure els prompts i outputs en una sola línia\n",
    "# El patró captura el Prompt i Output en la mateixa línia, ignorant les línies no rellevants\n",
    "pattern = r'Prompt:\\s*(.*?)\\s*Output:\\s*(.*?)(?=\\nPrompt:|\\Z)'\n",
    "matches = re.findall(pattern, text, re.DOTALL)\n",
    "\n",
    "# Crea l'arxiu CSV amb les columnes 'prompt' i 'output'\n",
    "with open('CatGPT-recipes.csv', 'w', newline='', encoding='utf-8') as csvfile:\n",
    "    csvwriter = csv.writer(csvfile)\n",
    "    csvwriter.writerow(['prompt', 'output'])  # Escriu els encapçalaments\n",
    "\n",
    "    for prompt, output in matches:\n",
    "        # Elimina espais i salts de línia extres abans i després del text\n",
    "        cleaned_prompt = prompt.strip()\n",
    "        cleaned_output = output.strip()\n",
    "        csvwriter.writerow([cleaned_prompt, cleaned_output])\n",
    "\n",
    "# Llegeix el CSV i desordena les dades\n",
    "dataset = pd.read_csv('CatGPT-recipes.csv')\n",
    "\n",
    "# Desordena i guarda el CSV de nou\n",
    "dataset = dataset.sample(frac=1).reset_index(drop=True)\n",
    "dataset.to_csv('CatGPT-recipes.csv', index=False)\n",
    "\n",
    "print(len(dataset))\n"
   ]
  }
 ],
 "metadata": {
  "kernelspec": {
   "display_name": "Python 3",
   "language": "python",
   "name": "python3"
  },
  "language_info": {
   "codemirror_mode": {
    "name": "ipython",
    "version": 3
   },
   "file_extension": ".py",
   "mimetype": "text/x-python",
   "name": "python",
   "nbconvert_exporter": "python",
   "pygments_lexer": "ipython3",
   "version": "3.10.6"
  }
 },
 "nbformat": 4,
 "nbformat_minor": 2
}
