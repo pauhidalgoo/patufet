{
 "cells": [
  {
   "cell_type": "code",
   "execution_count": 4,
   "metadata": {},
   "outputs": [],
   "source": [
    "linguistic_path = 'patufet-linguistic/CatGPT-linguistic.csv'\n",
    "mail_path = 'patufet-mails/CatGPT-mails.csv'\n",
    "messages_path = 'patufet-messages/CatGPT-messages.csv'\n",
    "poems_path = 'patufet-poems/CatGPT-poemes.csv'\n",
    "recipes_path = 'patufet-recipes/CatGPT-recipes.csv'\n",
    "sentiment_path = 'patufet-sentiment-analysis/CatGPT-sentiment.csv'\n",
    "stories_path = 'patufet-stories/CatGPT-stories.csv'\n",
    "\n",
    "# Load the data, add new column with the category and concatenate all the dataframes\n",
    "\n",
    "import pandas as pd\n",
    "\n",
    "linguistic = pd.read_csv(linguistic_path)\n",
    "linguistic['category'] = 'linguistic'\n",
    "mail = pd.read_csv(mail_path)\n",
    "mail['category'] = 'mail'\n",
    "messages = pd.read_csv(messages_path)\n",
    "messages['category'] = 'messages'\n",
    "poems = pd.read_csv(poems_path)\n",
    "poems['category'] = 'poems'\n",
    "recipes = pd.read_csv(recipes_path)\n",
    "recipes['category'] = 'receipes'\n",
    "sentiment = pd.read_csv(sentiment_path)\n",
    "sentiment['category'] = 'sentiment'\n",
    "stories = pd.read_csv(stories_path)\n",
    "stories['category'] = 'stories'\n",
    "\n",
    "df = pd.concat([linguistic, mail, messages, poems, recipes, sentiment, stories])\n",
    "\n",
    "# Shuffle the data\n",
    "df = df.sample(frac=1).reset_index(drop=True)\n",
    "\n",
    "# Save the data with patufet-premiumtext.csv\n",
    "\n",
    "df.to_csv('patufet-premiumtext.csv', index=False)"
   ]
  },
  {
   "cell_type": "code",
   "execution_count": 5,
   "metadata": {},
   "outputs": [
    {
     "name": "stdout",
     "output_type": "stream",
     "text": [
      "5074\n"
     ]
    }
   ],
   "source": [
    "# Load the data and print its length\n",
    "\n",
    "df = pd.read_csv('patufet-premiumtext.csv')\n",
    "print(len(df))"
   ]
  },
  {
   "cell_type": "markdown",
   "metadata": {},
   "source": [
    "# HF"
   ]
  },
  {
   "cell_type": "code",
   "execution_count": 6,
   "metadata": {},
   "outputs": [
    {
     "data": {
      "text/plain": [
       "RepoUrl('https://huggingface.co/datasets/baiges/patufet-premiumtext', endpoint='https://huggingface.co', repo_type='dataset', repo_id='baiges/patufet-premiumtext')"
      ]
     },
     "execution_count": 6,
     "metadata": {},
     "output_type": "execute_result"
    }
   ],
   "source": [
    "from huggingface_hub import HfApi, HfFolder\n",
    "\n",
    "# Initialize the API\n",
    "api = HfApi()\n",
    "\n",
    "# Create a new dataset repository\n",
    "repo_id = \"baiges/patufet-premiumtext\"\n",
    "api.create_repo(repo_id=repo_id, repo_type=\"dataset\")"
   ]
  },
  {
   "cell_type": "code",
   "execution_count": 7,
   "metadata": {},
   "outputs": [
    {
     "data": {
      "text/plain": [
       "CommitInfo(commit_url='https://huggingface.co/datasets/baiges/patufet-premiumtext/commit/d5555513bf552c052c51a6e71ad5e342a97cd25a', commit_message='Upload patufet-premiumtext.csv with huggingface_hub', commit_description='', oid='d5555513bf552c052c51a6e71ad5e342a97cd25a', pr_url=None, pr_revision=None, pr_num=None)"
      ]
     },
     "execution_count": 7,
     "metadata": {},
     "output_type": "execute_result"
    }
   ],
   "source": [
    "from huggingface_hub import upload_file\n",
    "\n",
    "# Path to the cleaned CSV file\n",
    "file_path = \"patufet-premiumtext.csv\"\n",
    "\n",
    "# Upload the file\n",
    "upload_file(\n",
    "    path_or_fileobj=file_path,\n",
    "    path_in_repo=\"patufet-premiumtext.csv\",  # Destination file name in the repository\n",
    "    repo_id=repo_id,\n",
    "    repo_type=\"dataset\"\n",
    ")"
   ]
  }
 ],
 "metadata": {
  "kernelspec": {
   "display_name": "Python 3",
   "language": "python",
   "name": "python3"
  },
  "language_info": {
   "codemirror_mode": {
    "name": "ipython",
    "version": 3
   },
   "file_extension": ".py",
   "mimetype": "text/x-python",
   "name": "python",
   "nbconvert_exporter": "python",
   "pygments_lexer": "ipython3",
   "version": "3.10.6"
  }
 },
 "nbformat": 4,
 "nbformat_minor": 2
}
