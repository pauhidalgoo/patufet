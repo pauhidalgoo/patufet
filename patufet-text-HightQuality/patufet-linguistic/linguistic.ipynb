{
 "cells": [
  {
   "cell_type": "code",
   "execution_count": 1,
   "metadata": {},
   "outputs": [
    {
     "name": "stdout",
     "output_type": "stream",
     "text": [
      "225\n"
     ]
    }
   ],
   "source": [
    "import csv\n",
    "import pandas as pd\n",
    "\n",
    "# Llegeix el contingut de l'arxiu info.txt\n",
    "with open('linguistic.txt', 'r', encoding='utf-8') as file:\n",
    "    lines = file.readlines()\n",
    "\n",
    "# Variables per emmagatzemar els prompts i outputs\n",
    "prompts_outputs = []\n",
    "\n",
    "# Bucle per processar línia a línia\n",
    "i = 0\n",
    "while i < len(lines):\n",
    "    line = lines[i].strip()\n",
    "    if line.startswith(\"Prompt:\"):\n",
    "        # Agafem la línia del prompt\n",
    "        prompt = line.replace(\"Prompt:\", \"\").strip()\n",
    "        \n",
    "        # Agafem la línia següent que conté l'output\n",
    "        if i + 1 < len(lines):\n",
    "            output_line = lines[i + 1].strip()\n",
    "            if output_line.startswith(\"Output:\"):\n",
    "                output = output_line.replace(\"Output:\", \"\").strip()\n",
    "                # Emmagatzemem el prompt i l'output\n",
    "                prompts_outputs.append([prompt, output])\n",
    "        \n",
    "        # Saltem a la línia següent després del bloc actual\n",
    "        i += 1\n",
    "    i += 1\n",
    "\n",
    "# Crea l'arxiu CSV amb les columnes 'prompt' i 'output'\n",
    "with open('CatGPT-linguistic.csv', 'w', newline='', encoding='utf-8') as csvfile:\n",
    "    csvwriter = csv.writer(csvfile)\n",
    "    csvwriter.writerow(['prompt', 'output'])  # Escriu els encapçalaments\n",
    "    csvwriter.writerows(prompts_outputs)\n",
    "\n",
    "# Llegeix el CSV i desordena les dades\n",
    "dataset = pd.read_csv('CatGPT-linguistic.csv')\n",
    "\n",
    "# Desordena i guarda el CSV de nou\n",
    "dataset = dataset.sample(frac=1).reset_index(drop=True)\n",
    "dataset.to_csv('CatGPT-linguistic.csv', index=False)\n",
    "\n",
    "print(len(dataset))"
   ]
  }
 ],
 "metadata": {
  "kernelspec": {
   "display_name": "Python 3",
   "language": "python",
   "name": "python3"
  },
  "language_info": {
   "codemirror_mode": {
    "name": "ipython",
    "version": 3
   },
   "file_extension": ".py",
   "mimetype": "text/x-python",
   "name": "python",
   "nbconvert_exporter": "python",
   "pygments_lexer": "ipython3",
   "version": "3.10.6"
  }
 },
 "nbformat": 4,
 "nbformat_minor": 2
}
