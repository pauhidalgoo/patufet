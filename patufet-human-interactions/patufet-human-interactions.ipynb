{
 "cells": [
  {
   "cell_type": "code",
   "execution_count": 8,
   "metadata": {},
   "outputs": [
    {
     "name": "stdout",
     "output_type": "stream",
     "text": [
      "426\n"
     ]
    }
   ],
   "source": [
    "import re\n",
    "import csv\n",
    "\n",
    "# Read the content of the file info.txt\n",
    "with open('interactions.txt', 'r', encoding='utf-8') as file:\n",
    "    text = file.read()\n",
    "\n",
    "# Use regular expressions to extract the prompts and outputs\n",
    "pattern = r'Prompt:\\s*(.*?)\\s*Output:\\s*(.*?)(?=\\s*Prompt:|$)'\n",
    "matches = re.findall(pattern, text, re.DOTALL)\n",
    "\n",
    "print(len(matches))\n",
    "\n",
    "# Create the CSV file with the columns 'prompt' and 'output'\n",
    "with open('patufet-human-interactions.csv', 'w', newline='', encoding='utf-8') as csvfile:\n",
    "    csvwriter = csv.writer(csvfile)\n",
    "    csvwriter.writerow(['prompt', 'output'])  # Escribir encabezados\n",
    "\n",
    "    for prompt, output in matches:\n",
    "        csvwriter.writerow([prompt.strip(), output.strip()])"
   ]
  },
  {
   "cell_type": "code",
   "execution_count": 9,
   "metadata": {},
   "outputs": [
    {
     "name": "stdout",
     "output_type": "stream",
     "text": [
      "426\n"
     ]
    }
   ],
   "source": [
    "# Read csv\n",
    "import pandas as pd\n",
    "\n",
    "dataset = pd.read_csv('patufet-human-interactions.csv')\n",
    "\n",
    "# Shuffle and store again\n",
    "dataset = dataset.sample(frac=1).reset_index(drop=True)\n",
    "dataset.to_csv('patufet-human-interactions.csv', index=False)\n",
    "\n",
    "print(len(dataset))"
   ]
  }
 ],
 "metadata": {
  "kernelspec": {
   "display_name": "Python 3",
   "language": "python",
   "name": "python3"
  },
  "language_info": {
   "codemirror_mode": {
    "name": "ipython",
    "version": 3
   },
   "file_extension": ".py",
   "mimetype": "text/x-python",
   "name": "python",
   "nbconvert_exporter": "python",
   "pygments_lexer": "ipython3",
   "version": "3.10.6"
  }
 },
 "nbformat": 4,
 "nbformat_minor": 2
}
