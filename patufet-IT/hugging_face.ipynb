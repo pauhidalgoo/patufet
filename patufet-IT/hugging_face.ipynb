{
 "cells": [
  {
   "cell_type": "code",
   "execution_count": 12,
   "metadata": {},
   "outputs": [
    {
     "name": "stdout",
     "output_type": "stream",
     "text": [
      "43692\n",
      "Datasets have been concatenated, shuffled, and saved as 'patufet-IT.csv'.\n"
     ]
    }
   ],
   "source": [
    "import pandas as pd\n",
    "\n",
    "# Load the first dataset (alpaCAT) into a DataFrame\n",
    "df_alpacat = pd.read_csv('../alpaCAT/alpaCAT.csv')\n",
    "\n",
    "# Load the second dataset (patufet_stories_prompt) into another DataFrame\n",
    "df_patufet_stories = pd.read_csv('patufet_stories_prompts.csv')\n",
    "\n",
    "# Rename columns in patufet_stories to match the format of alpaCAT\n",
    "df_patufet_stories.rename(columns={'prompt': 'instruction', 'story': 'output'}, inplace=True)\n",
    "\n",
    "# Check if the 'input' column exists in df_alpacat to ensure consistency\n",
    "if 'input' in df_alpacat.columns:\n",
    "    # Add an empty 'input' column to df_patufet_stories if it doesn't exist\n",
    "    if 'input' not in df_patufet_stories.columns:\n",
    "        df_patufet_stories['input'] = ''\n",
    "\n",
    "# Concatenate the two DataFrames vertically\n",
    "df_combined = pd.concat([df_alpacat, df_patufet_stories], ignore_index=True)\n",
    "\n",
    "# Shuffle the combined DataFrame to ensure randomness\n",
    "df_shuffled = df_combined.sample(frac=1, random_state=42).reset_index(drop=True)\n",
    "\n",
    "\n",
    "print(len(df_shuffled))\n",
    "\n",
    "# Save the shuffled DataFrame to a new CSV file\n",
    "df_shuffled.to_csv('patufet-IT.csv', index=False)\n",
    "\n",
    "print(\"Datasets have been concatenated, shuffled, and saved as 'patufet-IT.csv'.\")"
   ]
  },
  {
   "cell_type": "code",
   "execution_count": 2,
   "metadata": {},
   "outputs": [
    {
     "data": {
      "text/plain": [
       "RepoUrl('https://huggingface.co/datasets/baiges/patufet-IT', endpoint='https://huggingface.co', repo_type='dataset', repo_id='baiges/patufet-IT')"
      ]
     },
     "execution_count": 2,
     "metadata": {},
     "output_type": "execute_result"
    }
   ],
   "source": [
    "from huggingface_hub import HfApi, HfFolder\n",
    "\n",
    "# Initialize the API\n",
    "api = HfApi()\n",
    "\n",
    "# Create a new dataset repository\n",
    "repo_id = \"baiges/patufet-IT\"\n",
    "api.create_repo(repo_id=repo_id, repo_type=\"dataset\")"
   ]
  },
  {
   "cell_type": "code",
   "execution_count": 3,
   "metadata": {},
   "outputs": [
    {
     "data": {
      "application/vnd.jupyter.widget-view+json": {
       "model_id": "720b62c4dd4f4f86b8e3191d420eda0d",
       "version_major": 2,
       "version_minor": 0
      },
      "text/plain": [
       "patufet-IT.csv:   0%|          | 0.00/49.4M [00:00<?, ?B/s]"
      ]
     },
     "metadata": {},
     "output_type": "display_data"
    },
    {
     "data": {
      "text/plain": [
       "CommitInfo(commit_url='https://huggingface.co/datasets/baiges/patufet-IT/commit/dba81efafed8a1f9c8bcae8efede74900ea5890b', commit_message='Upload patufet-IT.csv with huggingface_hub', commit_description='', oid='dba81efafed8a1f9c8bcae8efede74900ea5890b', pr_url=None, pr_revision=None, pr_num=None)"
      ]
     },
     "execution_count": 3,
     "metadata": {},
     "output_type": "execute_result"
    }
   ],
   "source": [
    "from huggingface_hub import upload_file\n",
    "\n",
    "# Path to the cleaned CSV file\n",
    "file_path = \"patufet-IT.csv\"\n",
    "\n",
    "# Upload the file\n",
    "upload_file(\n",
    "    path_or_fileobj=file_path,\n",
    "    path_in_repo=\"patufet-IT.csv\",  # Destination file name in the repository\n",
    "    repo_id=repo_id,\n",
    "    repo_type=\"dataset\"\n",
    ")"
   ]
  }
 ],
 "metadata": {
  "kernelspec": {
   "display_name": "Python 3",
   "language": "python",
   "name": "python3"
  },
  "language_info": {
   "codemirror_mode": {
    "name": "ipython",
    "version": 3
   },
   "file_extension": ".py",
   "mimetype": "text/x-python",
   "name": "python",
   "nbconvert_exporter": "python",
   "pygments_lexer": "ipython3",
   "version": "3.10.6"
  }
 },
 "nbformat": 4,
 "nbformat_minor": 2
}
