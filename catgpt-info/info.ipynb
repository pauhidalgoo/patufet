{
 "cells": [
  {
   "cell_type": "code",
   "execution_count": 6,
   "metadata": {},
   "outputs": [],
   "source": [
    "import re\n",
    "import csv\n",
    "\n",
    "# Leer el contenido del archivo info.txt\n",
    "with open('info.txt', 'r', encoding='utf-8') as file:\n",
    "    text = file.read()\n",
    "\n",
    "# Utilizar expresiones regulares para extraer los prompts y outputs\n",
    "pattern = r'Prompt:\\s*(.*?)\\nOutput:\\s*(.*?)\\n(?=Prompt:|$)'\n",
    "matches = re.findall(pattern, text, re.DOTALL)\n",
    "\n",
    "# Crear el archivo CSV con las columnas 'prompt' y 'output'\n",
    "with open('CatGPT-info.csv', 'w', newline='', encoding='utf-8') as csvfile:\n",
    "    csvwriter = csv.writer(csvfile)\n",
    "    csvwriter.writerow(['prompt', 'output'])  # Escribir encabezados\n",
    "\n",
    "    for prompt, output in matches:\n",
    "        csvwriter.writerow([prompt.strip(), output.strip()])"
   ]
  },
  {
   "cell_type": "code",
   "execution_count": 7,
   "metadata": {},
   "outputs": [
    {
     "name": "stdout",
     "output_type": "stream",
     "text": [
      "254\n"
     ]
    }
   ],
   "source": [
    "# Read csv\n",
    "import pandas as pd\n",
    "\n",
    "dataset = pd.read_csv('CatGPT-info.csv')\n",
    "\n",
    "# Shuffle and store again\n",
    "dataset = dataset.sample(frac=1).reset_index(drop=True)\n",
    "dataset.to_csv('CatGPT-info.csv', index=False)\n",
    "\n",
    "print(len(dataset))"
   ]
  }
 ],
 "metadata": {
  "kernelspec": {
   "display_name": "Python 3",
   "language": "python",
   "name": "python3"
  },
  "language_info": {
   "codemirror_mode": {
    "name": "ipython",
    "version": 3
   },
   "file_extension": ".py",
   "mimetype": "text/x-python",
   "name": "python",
   "nbconvert_exporter": "python",
   "pygments_lexer": "ipython3",
   "version": "3.10.6"
  }
 },
 "nbformat": 4,
 "nbformat_minor": 2
}
