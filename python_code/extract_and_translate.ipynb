{
 "cells": [
  {
   "cell_type": "code",
   "execution_count": null,
   "metadata": {},
   "outputs": [],
   "source": [
    "from datasets import load_dataset\n",
    "\n",
    "# Load The Stack dataset\n",
    "dataset = load_dataset('bigcode/the-stack', data_dir='data/python', split='train')\n",
    "\n",
    "# Filter for Python files and extract well-commented code\n",
    "def is_well_commented(example):\n",
    "    code = example['content']\n",
    "    comments = sum(1 for line in code.splitlines() if line.strip().startswith(\"#\"))\n",
    "    return comments / max(1, len(code.splitlines())) > 0.1  # e.g., 10% of lines are comments\n",
    "\n",
    "python_code = dataset.filter(is_well_commented)\n",
    "python_code = python_code.shuffle(seed=42).select(range(0, 1_000_000))  # Adjust for token size\n"
   ]
  },
  {
   "cell_type": "code",
   "execution_count": null,
   "metadata": {},
   "outputs": [],
   "source": [
    "from googletrans import Translator\n",
    "\n",
    "translator = Translator()\n",
    "\n",
    "def translate_comments(code):\n",
    "    lines = code.splitlines()\n",
    "    translated_lines = []\n",
    "    for line in lines:\n",
    "        if line.strip().startswith(\"#\"):\n",
    "            comment = line.strip(\"#\").strip()\n",
    "            translated_comment = translator.translate(comment, src='en', dest='ca').text\n",
    "            translated_lines.append(f\"# {translated_comment}\")\n",
    "        else:\n",
    "            translated_lines.append(line)\n",
    "    return \"\\n\".join(translated_lines)\n",
    "\n",
    "python_code = python_code.map(lambda x: {\"content\": translate_comments(x['content'])})\n"
   ]
  }
 ],
 "metadata": {
  "language_info": {
   "name": "python"
  }
 },
 "nbformat": 4,
 "nbformat_minor": 2
}
