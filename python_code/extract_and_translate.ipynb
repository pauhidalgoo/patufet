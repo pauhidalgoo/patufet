{
 "cells": [
  {
   "cell_type": "code",
   "execution_count": 1,
   "metadata": {},
   "outputs": [],
   "source": [
    "from datasets import load_dataset"
   ]
  },
  {
   "cell_type": "code",
   "execution_count": null,
   "metadata": {},
   "outputs": [],
   "source": [
    "\n",
    "# Load The Stack dataset\n",
    "dataset = load_dataset('bigcode/the-stack', data_dir='data/python', split='train')\n",
    "\n",
    "# Filter for Python files and extract well-commented code\n",
    "def is_well_commented(example):\n",
    "    code = example['content']\n",
    "    comments = sum(1 for line in code.splitlines() if line.strip().startswith(\"#\"))\n",
    "    return comments / max(1, len(code.splitlines())) > 0.1  # e.g., 10% of lines are comments\n",
    "\n",
    "python_code = dataset.filter(is_well_commented)\n",
    "python_code = python_code.shuffle(seed=42).select(range(0, 1_000_000)) \n"
   ]
  },
  {
   "cell_type": "code",
   "execution_count": null,
   "metadata": {},
   "outputs": [],
   "source": [
    "from googletrans import Translator\n",
    "\n",
    "translator = Translator()\n",
    "\n",
    "def translate_comments(code):\n",
    "    lines = code.splitlines()\n",
    "    translated_lines = []\n",
    "    for line in lines:\n",
    "        if line.strip().startswith(\"#\"):\n",
    "            comment = line.strip(\"#\").strip()\n",
    "            translated_comment = translator.translate(comment, src='en', dest='ca').text\n",
    "            translated_lines.append(f\"# {translated_comment}\")\n",
    "        else:\n",
    "            translated_lines.append(line)\n",
    "    return \"\\n\".join(translated_lines)\n",
    "\n",
    "python_code = python_code.map(lambda x: {\"content\": translate_comments(x['content'])})\n"
   ]
  },
  {
   "cell_type": "code",
   "execution_count": 29,
   "metadata": {},
   "outputs": [],
   "source": [
    "import re\n",
    "\n",
    "def extract_exercise_statements(text):\n",
    "    lines = text.splitlines()\n",
    "\n",
    "    exercises = []\n",
    "    current_exercise = \"\"\n",
    "    first = True\n",
    "\n",
    "    exercise_start_pattern = re.compile(r'^\\s*[-*]*\\s*[-*]*(EXERCICI|EXERCISE)\\s*[:-]*[-*]*\\s*', re.IGNORECASE)\n",
    "    for line in lines:\n",
    "        if exercise_start_pattern.match(line):\n",
    "            print(\"match\")\n",
    "            if current_exercise:\n",
    "                if first:\n",
    "                    current_exercise = \"\"\n",
    "                else:\n",
    "                    exercises.append(current_exercise.strip())\n",
    "                    current_exercise = \"\"\n",
    "                first = False\n",
    "        else:\n",
    "            current_exercise += \" \" + line.strip()\n",
    "    \n",
    "    if current_exercise:\n",
    "        exercises.append(current_exercise.strip())\n",
    "\n",
    "    return exercises\n",
    "\n",
    "# Example usage\n",
    "response_text = \"\"\"\n",
    "- **EXERCICI:** Crea una funció que rebi un array d'enters i retorni un nou array amb els elements ordenats de forma ascendent, però sense utilitzar la funció `sorted()`. \n",
    "- **EXERCICI:** Escriu un programa que rebi un array d'enters i calculi la mitjana aritmètica dels elements parells i la mitjana aritmètica dels elements imparells.\n",
    "- **EXERCICI:** Donat un array d'enters, crea un nou array que contingui els elements que es repeteixen un nombre parell de vegades.  - **EXERCICI:** Implementa una funció que rebi un array d'enters i retorni el valor que apareix més vegades en l'array.  - **EXERCICI:** Crea un programa que rebi un array d'enters i un enter `n`. El programa ha de retornar un nou array que contingui els `n` primers elements de l'array original.  - **EXERCICI:** Escriu una funció que rebi dos arrays d'enters i retorni un nou array que contingui la intersecció dels dos arrays.  - **EXERCICI:** Implementa una funció que rebi un array de cadenes de text i retorni un nou array amb les cadenes ordenades alfabèticament en ordre invers.  - **EXERCICI:** Crea una funció que rebi un array d'enters i retorni un nou array que contingui la suma de cada parell d'elements consecutius de l'array original.  - **EXERCICI:** Donat un array d'enters, crea un nou array que contingui els elements que són primers.  - **EXERCICI:** Implementa una funció que rebi un array d'enters i retorni el valor màxim i el valor mínim de l'array sense utilitzar les funcions `max()` i `min()`.  - **EXERCICI:** Crea un programa que rebi un array de nombres reals i un nombre real `x`. El programa ha de retornar un nou array que contingui els elements de l'array original que són més grans que `x`.  - **EXERCICI:** Escriu una funció que rebi un array de cadenes de text i retorni un nou array amb les cadenes que contenen la lletra \"a\".  - **EXERCICI:** Implementa una funció que rebi un array d'enters i retorni un nou array que contingui els elements que són múltiples de 3.  - **EXERCICI:** Crea una funció que rebi un array d'enters i retorni la suma dels quadrats dels elements de l'array.  - **EXERCICI:** Donat un array de nombres reals, crea un nou array que contingui la mitjana mòbil de cada 3 elements consecutius de l'array original.  - **EXERCICI:** Implementa una funció que rebi un array de cadenes de text i retorni un nou array amb les cadenes ordenades per la seva longitud en ordre creixent.  - **EXERCICI:** Crea un programa que rebi un array d'enters i un enter `n`. El programa ha de retornar un nou array que contingui els elements de l'array original que són divisibles per `n`.  - **EXERCICI:** Escriu una funció que rebi un array de nombres reals i retorni un nou array amb els elements ordenats en ordre ascendent, però sense utilitzar la funció `sorted()`.  - **EXERCICI:** Implementa una funció que rebi un array d'enters i retorni un nou array que contingui els elements que són parells i que es troben en posicions imparells de l'array original.  - **EXERCICI:** Crea una funció que rebi un array d'enters i retorni un nou array que contingui els elements que són únics, és a dir, que no es repeteixen.\n",
    "\"\"\"\n",
    "\n",
    "exercise_statements = extract_exercise_statements(response_text)\n",
    "for idx, exercise in enumerate(exercise_statements):\n",
    "    print(f\"Exercise {idx+1}: {exercise}\")\n"
   ]
  }
 ],
 "metadata": {
  "kernelspec": {
   "display_name": "Python 3",
   "language": "python",
   "name": "python3"
  },
  "language_info": {
   "codemirror_mode": {
    "name": "ipython",
    "version": 3
   },
   "file_extension": ".py",
   "mimetype": "text/x-python",
   "name": "python",
   "nbconvert_exporter": "python",
   "pygments_lexer": "ipython3",
   "version": "3.11.9"
  }
 },
 "nbformat": 4,
 "nbformat_minor": 2
}
