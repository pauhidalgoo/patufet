{
 "cells": [
  {
   "cell_type": "code",
   "execution_count": 69,
   "metadata": {},
   "outputs": [],
   "source": [
    "import pandas as pd\n",
    "\n",
    "# Step 1: Load your dataset (assuming a CSV file for this example)\n",
    "df = pd.read_csv('synthetic_prompts.csv')\n",
    "\n",
    "df2 = pd.read_csv('synthetic_prompts2.csv')"
   ]
  },
  {
   "cell_type": "code",
   "execution_count": 70,
   "metadata": {},
   "outputs": [
    {
     "data": {
      "text/plain": [
       "(625, 4)"
      ]
     },
     "execution_count": 70,
     "metadata": {},
     "output_type": "execute_result"
    }
   ],
   "source": [
    "df.shape"
   ]
  },
  {
   "cell_type": "code",
   "execution_count": 71,
   "metadata": {},
   "outputs": [],
   "source": [
    "df = df[(df['Types'] != \"summarization\") & (df['Types'] !=\"paraphrasing\") & (df['Topic'] != \"asking the AI to perform sentiment analysis\")]"
   ]
  },
  {
   "cell_type": "code",
   "execution_count": 72,
   "metadata": {},
   "outputs": [],
   "source": [
    "df = pd.concat([df, df2], ignore_index=True)"
   ]
  },
  {
   "cell_type": "code",
   "execution_count": 73,
   "metadata": {},
   "outputs": [],
   "source": [
    "# Step 2: Split the 'prompt' column on the delimiter '-'\n",
    "df['Prompts'] = df['Prompts'].str.split('- ')\n",
    "\n",
    "# Step 3: Explode the list into separate rows\n",
    "df = df.explode('Prompts')"
   ]
  },
  {
   "cell_type": "code",
   "execution_count": 74,
   "metadata": {},
   "outputs": [],
   "source": [
    "df['Prompts'] = df['Prompts'].str.strip()"
   ]
  },
  {
   "cell_type": "code",
   "execution_count": 75,
   "metadata": {},
   "outputs": [],
   "source": [
    "df = df[df['Prompts'].notna() & (df['Prompts'] != '')]"
   ]
  },
  {
   "cell_type": "code",
   "execution_count": 76,
   "metadata": {},
   "outputs": [],
   "source": [
    "df = df[~df['Prompts'].str.startswith('##')]"
   ]
  },
  {
   "cell_type": "code",
   "execution_count": 77,
   "metadata": {},
   "outputs": [],
   "source": [
    "df['Prompts'] = df['Prompts'].str.replace(r'\\*\\*', '', regex=True)"
   ]
  },
  {
   "cell_type": "code",
   "execution_count": 78,
   "metadata": {},
   "outputs": [],
   "source": [
    "df = df[~df['Prompts'].str.startswith('I understand')]\n",
    "\n"
   ]
  },
  {
   "cell_type": "code",
   "execution_count": 86,
   "metadata": {},
   "outputs": [],
   "source": [
    "df = df[~df['Prompts'].str.startswith('I cannot')]"
   ]
  },
  {
   "cell_type": "code",
   "execution_count": 79,
   "metadata": {},
   "outputs": [
    {
     "data": {
      "text/html": [
       "<div>\n",
       "<style scoped>\n",
       "    .dataframe tbody tr th:only-of-type {\n",
       "        vertical-align: middle;\n",
       "    }\n",
       "\n",
       "    .dataframe tbody tr th {\n",
       "        vertical-align: top;\n",
       "    }\n",
       "\n",
       "    .dataframe thead th {\n",
       "        text-align: right;\n",
       "    }\n",
       "</style>\n",
       "<table border=\"1\" class=\"dataframe\">\n",
       "  <thead>\n",
       "    <tr style=\"text-align: right;\">\n",
       "      <th></th>\n",
       "      <th>Prompts</th>\n",
       "      <th>Types</th>\n",
       "      <th>Topic</th>\n",
       "      <th>Difficulty</th>\n",
       "    </tr>\n",
       "  </thead>\n",
       "  <tbody>\n",
       "    <tr>\n",
       "      <th>0</th>\n",
       "      <td>Quin any va començar la Primera Guerra Mundial?</td>\n",
       "      <td>general knowledge and factual questions</td>\n",
       "      <td>history</td>\n",
       "      <td>very easy</td>\n",
       "    </tr>\n",
       "    <tr>\n",
       "      <th>0</th>\n",
       "      <td>Qui va pintar la Mona Lisa?</td>\n",
       "      <td>general knowledge and factual questions</td>\n",
       "      <td>history</td>\n",
       "      <td>very easy</td>\n",
       "    </tr>\n",
       "    <tr>\n",
       "      <th>0</th>\n",
       "      <td>En quin continent es troba la Gran Muralla Xin...</td>\n",
       "      <td>general knowledge and factual questions</td>\n",
       "      <td>history</td>\n",
       "      <td>very easy</td>\n",
       "    </tr>\n",
       "    <tr>\n",
       "      <th>0</th>\n",
       "      <td>Quin és el riu més llarg del món?</td>\n",
       "      <td>general knowledge and factual questions</td>\n",
       "      <td>history</td>\n",
       "      <td>very easy</td>\n",
       "    </tr>\n",
       "    <tr>\n",
       "      <th>0</th>\n",
       "      <td>Quina és la capital d'Austràlia?</td>\n",
       "      <td>general knowledge and factual questions</td>\n",
       "      <td>history</td>\n",
       "      <td>very easy</td>\n",
       "    </tr>\n",
       "    <tr>\n",
       "      <th>0</th>\n",
       "      <td>Quina és la muntanya més alta del món?</td>\n",
       "      <td>general knowledge and factual questions</td>\n",
       "      <td>history</td>\n",
       "      <td>very easy</td>\n",
       "    </tr>\n",
       "    <tr>\n",
       "      <th>0</th>\n",
       "      <td>En quin any va morir Joan Pau II?</td>\n",
       "      <td>general knowledge and factual questions</td>\n",
       "      <td>history</td>\n",
       "      <td>very easy</td>\n",
       "    </tr>\n",
       "    <tr>\n",
       "      <th>0</th>\n",
       "      <td>Qui va descobrir Amèrica?</td>\n",
       "      <td>general knowledge and factual questions</td>\n",
       "      <td>history</td>\n",
       "      <td>very easy</td>\n",
       "    </tr>\n",
       "    <tr>\n",
       "      <th>0</th>\n",
       "      <td>Quina és la població actual de Barcelona?</td>\n",
       "      <td>general knowledge and factual questions</td>\n",
       "      <td>history</td>\n",
       "      <td>very easy</td>\n",
       "    </tr>\n",
       "    <tr>\n",
       "      <th>0</th>\n",
       "      <td>Quina és la moneda oficial d'Espanya?</td>\n",
       "      <td>general knowledge and factual questions</td>\n",
       "      <td>history</td>\n",
       "      <td>very easy</td>\n",
       "    </tr>\n",
       "    <tr>\n",
       "      <th>0</th>\n",
       "      <td>Quin any es va fundar Roma?</td>\n",
       "      <td>general knowledge and factual questions</td>\n",
       "      <td>history</td>\n",
       "      <td>very easy</td>\n",
       "    </tr>\n",
       "    <tr>\n",
       "      <th>0</th>\n",
       "      <td>Quina és la capital de França?</td>\n",
       "      <td>general knowledge and factual questions</td>\n",
       "      <td>history</td>\n",
       "      <td>very easy</td>\n",
       "    </tr>\n",
       "    <tr>\n",
       "      <th>0</th>\n",
       "      <td>Quants dies té un any bisest?</td>\n",
       "      <td>general knowledge and factual questions</td>\n",
       "      <td>history</td>\n",
       "      <td>very easy</td>\n",
       "    </tr>\n",
       "    <tr>\n",
       "      <th>0</th>\n",
       "      <td>Quin és el planeta més gran del sistema solar?</td>\n",
       "      <td>general knowledge and factual questions</td>\n",
       "      <td>history</td>\n",
       "      <td>very easy</td>\n",
       "    </tr>\n",
       "    <tr>\n",
       "      <th>0</th>\n",
       "      <td>Quina és la religió més practicada al món?</td>\n",
       "      <td>general knowledge and factual questions</td>\n",
       "      <td>history</td>\n",
       "      <td>very easy</td>\n",
       "    </tr>\n",
       "    <tr>\n",
       "      <th>0</th>\n",
       "      <td>Quina és la capital de Rússia?</td>\n",
       "      <td>general knowledge and factual questions</td>\n",
       "      <td>history</td>\n",
       "      <td>very easy</td>\n",
       "    </tr>\n",
       "    <tr>\n",
       "      <th>0</th>\n",
       "      <td>Quina és la capital de la Xina?</td>\n",
       "      <td>general knowledge and factual questions</td>\n",
       "      <td>history</td>\n",
       "      <td>very easy</td>\n",
       "    </tr>\n",
       "    <tr>\n",
       "      <th>0</th>\n",
       "      <td>Quin és el nom del primer home a caminar sobre...</td>\n",
       "      <td>general knowledge and factual questions</td>\n",
       "      <td>history</td>\n",
       "      <td>very easy</td>\n",
       "    </tr>\n",
       "    <tr>\n",
       "      <th>0</th>\n",
       "      <td>Quin és el nom del president dels Estats Units?</td>\n",
       "      <td>general knowledge and factual questions</td>\n",
       "      <td>history</td>\n",
       "      <td>very easy</td>\n",
       "    </tr>\n",
       "    <tr>\n",
       "      <th>0</th>\n",
       "      <td>Quina és la capital del Brasil?</td>\n",
       "      <td>general knowledge and factual questions</td>\n",
       "      <td>history</td>\n",
       "      <td>very easy</td>\n",
       "    </tr>\n",
       "    <tr>\n",
       "      <th>0</th>\n",
       "      <td>Quin és el nom de la Reina d'Anglaterra?</td>\n",
       "      <td>general knowledge and factual questions</td>\n",
       "      <td>history</td>\n",
       "      <td>very easy</td>\n",
       "    </tr>\n",
       "    <tr>\n",
       "      <th>0</th>\n",
       "      <td>Quina és la capital d'Itàlia?</td>\n",
       "      <td>general knowledge and factual questions</td>\n",
       "      <td>history</td>\n",
       "      <td>very easy</td>\n",
       "    </tr>\n",
       "    <tr>\n",
       "      <th>0</th>\n",
       "      <td>Quina és la capital del Japó?</td>\n",
       "      <td>general knowledge and factual questions</td>\n",
       "      <td>history</td>\n",
       "      <td>very easy</td>\n",
       "    </tr>\n",
       "    <tr>\n",
       "      <th>0</th>\n",
       "      <td>Quin any va acabar la Segona Guerra Mundial?</td>\n",
       "      <td>general knowledge and factual questions</td>\n",
       "      <td>history</td>\n",
       "      <td>very easy</td>\n",
       "    </tr>\n",
       "    <tr>\n",
       "      <th>0</th>\n",
       "      <td>Quin és el nom de la moneda de la Unió Europea?</td>\n",
       "      <td>general knowledge and factual questions</td>\n",
       "      <td>history</td>\n",
       "      <td>very easy</td>\n",
       "    </tr>\n",
       "    <tr>\n",
       "      <th>0</th>\n",
       "      <td>Qui va escriure \"Hamlet\"?</td>\n",
       "      <td>general knowledge and factual questions</td>\n",
       "      <td>history</td>\n",
       "      <td>very easy</td>\n",
       "    </tr>\n",
       "    <tr>\n",
       "      <th>0</th>\n",
       "      <td>Quina és la capital d'Alemanya?</td>\n",
       "      <td>general knowledge and factual questions</td>\n",
       "      <td>history</td>\n",
       "      <td>very easy</td>\n",
       "    </tr>\n",
       "    <tr>\n",
       "      <th>0</th>\n",
       "      <td>Quin és el nom del riu que travessa París?</td>\n",
       "      <td>general knowledge and factual questions</td>\n",
       "      <td>history</td>\n",
       "      <td>very easy</td>\n",
       "    </tr>\n",
       "    <tr>\n",
       "      <th>0</th>\n",
       "      <td>Quina és la capital de Mèxic?</td>\n",
       "      <td>general knowledge and factual questions</td>\n",
       "      <td>history</td>\n",
       "      <td>very easy</td>\n",
       "    </tr>\n",
       "    <tr>\n",
       "      <th>0</th>\n",
       "      <td>Quin és el nom de la moneda d'Estats Units?</td>\n",
       "      <td>general knowledge and factual questions</td>\n",
       "      <td>history</td>\n",
       "      <td>very easy</td>\n",
       "    </tr>\n",
       "    <tr>\n",
       "      <th>0</th>\n",
       "      <td>Quina és la capital d'Argentina?</td>\n",
       "      <td>general knowledge and factual questions</td>\n",
       "      <td>history</td>\n",
       "      <td>very easy</td>\n",
       "    </tr>\n",
       "    <tr>\n",
       "      <th>0</th>\n",
       "      <td>Quin és el nom de la muntanya més alta dels Pi...</td>\n",
       "      <td>general knowledge and factual questions</td>\n",
       "      <td>history</td>\n",
       "      <td>very easy</td>\n",
       "    </tr>\n",
       "    <tr>\n",
       "      <th>0</th>\n",
       "      <td>Quina és la capital de Portugal?</td>\n",
       "      <td>general knowledge and factual questions</td>\n",
       "      <td>history</td>\n",
       "      <td>very easy</td>\n",
       "    </tr>\n",
       "    <tr>\n",
       "      <th>0</th>\n",
       "      <td>Quin és el nom de la muntanya més alta de la T...</td>\n",
       "      <td>general knowledge and factual questions</td>\n",
       "      <td>history</td>\n",
       "      <td>very easy</td>\n",
       "    </tr>\n",
       "    <tr>\n",
       "      <th>0</th>\n",
       "      <td>Quina és la capital de Sud-àfrica?</td>\n",
       "      <td>general knowledge and factual questions</td>\n",
       "      <td>history</td>\n",
       "      <td>very easy</td>\n",
       "    </tr>\n",
       "    <tr>\n",
       "      <th>0</th>\n",
       "      <td>Quin és el nom de l'edifici més alt del món?</td>\n",
       "      <td>general knowledge and factual questions</td>\n",
       "      <td>history</td>\n",
       "      <td>very easy</td>\n",
       "    </tr>\n",
       "    <tr>\n",
       "      <th>0</th>\n",
       "      <td>Quina és la capital de Canadà?</td>\n",
       "      <td>general knowledge and factual questions</td>\n",
       "      <td>history</td>\n",
       "      <td>very easy</td>\n",
       "    </tr>\n",
       "    <tr>\n",
       "      <th>0</th>\n",
       "      <td>Quin és el nom de la capital d'Egipte?</td>\n",
       "      <td>general knowledge and factual questions</td>\n",
       "      <td>history</td>\n",
       "      <td>very easy</td>\n",
       "    </tr>\n",
       "    <tr>\n",
       "      <th>0</th>\n",
       "      <td>Quina és la capital de Turquia?</td>\n",
       "      <td>general knowledge and factual questions</td>\n",
       "      <td>history</td>\n",
       "      <td>very easy</td>\n",
       "    </tr>\n",
       "    <tr>\n",
       "      <th>0</th>\n",
       "      <td>Quin és el nom del mar que separa Europa d'Àfr...</td>\n",
       "      <td>general knowledge and factual questions</td>\n",
       "      <td>history</td>\n",
       "      <td>very easy</td>\n",
       "    </tr>\n",
       "    <tr>\n",
       "      <th>0</th>\n",
       "      <td>Quina és la capital d'Austràlia?</td>\n",
       "      <td>general knowledge and factual questions</td>\n",
       "      <td>history</td>\n",
       "      <td>very easy</td>\n",
       "    </tr>\n",
       "    <tr>\n",
       "      <th>0</th>\n",
       "      <td>Quin és el nom de la capital d'Índia?</td>\n",
       "      <td>general knowledge and factual questions</td>\n",
       "      <td>history</td>\n",
       "      <td>very easy</td>\n",
       "    </tr>\n",
       "    <tr>\n",
       "      <th>0</th>\n",
       "      <td>Quina és la capital de Brasil?</td>\n",
       "      <td>general knowledge and factual questions</td>\n",
       "      <td>history</td>\n",
       "      <td>very easy</td>\n",
       "    </tr>\n",
       "    <tr>\n",
       "      <th>0</th>\n",
       "      <td>Quin és el nom de la capital de Corea del Sud?</td>\n",
       "      <td>general knowledge and factual questions</td>\n",
       "      <td>history</td>\n",
       "      <td>very easy</td>\n",
       "    </tr>\n",
       "    <tr>\n",
       "      <th>0</th>\n",
       "      <td>Quina és la capital de Suècia?</td>\n",
       "      <td>general knowledge and factual questions</td>\n",
       "      <td>history</td>\n",
       "      <td>very easy</td>\n",
       "    </tr>\n",
       "    <tr>\n",
       "      <th>0</th>\n",
       "      <td>Quin és el nom de la capital de Mèxic?</td>\n",
       "      <td>general knowledge and factual questions</td>\n",
       "      <td>history</td>\n",
       "      <td>very easy</td>\n",
       "    </tr>\n",
       "    <tr>\n",
       "      <th>0</th>\n",
       "      <td>Quina és la capital de Xile?</td>\n",
       "      <td>general knowledge and factual questions</td>\n",
       "      <td>history</td>\n",
       "      <td>very easy</td>\n",
       "    </tr>\n",
       "    <tr>\n",
       "      <th>0</th>\n",
       "      <td>Quin és el nom de la capital de Colòmbia?</td>\n",
       "      <td>general knowledge and factual questions</td>\n",
       "      <td>history</td>\n",
       "      <td>very easy</td>\n",
       "    </tr>\n",
       "    <tr>\n",
       "      <th>0</th>\n",
       "      <td>Quina és la capital de Perú?</td>\n",
       "      <td>general knowledge and factual questions</td>\n",
       "      <td>history</td>\n",
       "      <td>very easy</td>\n",
       "    </tr>\n",
       "    <tr>\n",
       "      <th>0</th>\n",
       "      <td>Quin és el nom de la capital de Veneçuela?</td>\n",
       "      <td>general knowledge and factual questions</td>\n",
       "      <td>history</td>\n",
       "      <td>very easy</td>\n",
       "    </tr>\n",
       "  </tbody>\n",
       "</table>\n",
       "</div>"
      ],
      "text/plain": [
       "                                             Prompts  \\\n",
       "0    Quin any va començar la Primera Guerra Mundial?   \n",
       "0                        Qui va pintar la Mona Lisa?   \n",
       "0  En quin continent es troba la Gran Muralla Xin...   \n",
       "0                  Quin és el riu més llarg del món?   \n",
       "0                   Quina és la capital d'Austràlia?   \n",
       "0             Quina és la muntanya més alta del món?   \n",
       "0                  En quin any va morir Joan Pau II?   \n",
       "0                          Qui va descobrir Amèrica?   \n",
       "0          Quina és la població actual de Barcelona?   \n",
       "0              Quina és la moneda oficial d'Espanya?   \n",
       "0                        Quin any es va fundar Roma?   \n",
       "0                     Quina és la capital de França?   \n",
       "0                      Quants dies té un any bisest?   \n",
       "0     Quin és el planeta més gran del sistema solar?   \n",
       "0         Quina és la religió més practicada al món?   \n",
       "0                     Quina és la capital de Rússia?   \n",
       "0                    Quina és la capital de la Xina?   \n",
       "0  Quin és el nom del primer home a caminar sobre...   \n",
       "0    Quin és el nom del president dels Estats Units?   \n",
       "0                    Quina és la capital del Brasil?   \n",
       "0           Quin és el nom de la Reina d'Anglaterra?   \n",
       "0                      Quina és la capital d'Itàlia?   \n",
       "0                      Quina és la capital del Japó?   \n",
       "0       Quin any va acabar la Segona Guerra Mundial?   \n",
       "0    Quin és el nom de la moneda de la Unió Europea?   \n",
       "0                          Qui va escriure \"Hamlet\"?   \n",
       "0                    Quina és la capital d'Alemanya?   \n",
       "0         Quin és el nom del riu que travessa París?   \n",
       "0                      Quina és la capital de Mèxic?   \n",
       "0        Quin és el nom de la moneda d'Estats Units?   \n",
       "0                   Quina és la capital d'Argentina?   \n",
       "0  Quin és el nom de la muntanya més alta dels Pi...   \n",
       "0                   Quina és la capital de Portugal?   \n",
       "0  Quin és el nom de la muntanya més alta de la T...   \n",
       "0                 Quina és la capital de Sud-àfrica?   \n",
       "0       Quin és el nom de l'edifici més alt del món?   \n",
       "0                     Quina és la capital de Canadà?   \n",
       "0             Quin és el nom de la capital d'Egipte?   \n",
       "0                    Quina és la capital de Turquia?   \n",
       "0  Quin és el nom del mar que separa Europa d'Àfr...   \n",
       "0                   Quina és la capital d'Austràlia?   \n",
       "0              Quin és el nom de la capital d'Índia?   \n",
       "0                     Quina és la capital de Brasil?   \n",
       "0     Quin és el nom de la capital de Corea del Sud?   \n",
       "0                     Quina és la capital de Suècia?   \n",
       "0             Quin és el nom de la capital de Mèxic?   \n",
       "0                       Quina és la capital de Xile?   \n",
       "0          Quin és el nom de la capital de Colòmbia?   \n",
       "0                       Quina és la capital de Perú?   \n",
       "0         Quin és el nom de la capital de Veneçuela?   \n",
       "\n",
       "                                     Types    Topic Difficulty  \n",
       "0  general knowledge and factual questions  history  very easy  \n",
       "0  general knowledge and factual questions  history  very easy  \n",
       "0  general knowledge and factual questions  history  very easy  \n",
       "0  general knowledge and factual questions  history  very easy  \n",
       "0  general knowledge and factual questions  history  very easy  \n",
       "0  general knowledge and factual questions  history  very easy  \n",
       "0  general knowledge and factual questions  history  very easy  \n",
       "0  general knowledge and factual questions  history  very easy  \n",
       "0  general knowledge and factual questions  history  very easy  \n",
       "0  general knowledge and factual questions  history  very easy  \n",
       "0  general knowledge and factual questions  history  very easy  \n",
       "0  general knowledge and factual questions  history  very easy  \n",
       "0  general knowledge and factual questions  history  very easy  \n",
       "0  general knowledge and factual questions  history  very easy  \n",
       "0  general knowledge and factual questions  history  very easy  \n",
       "0  general knowledge and factual questions  history  very easy  \n",
       "0  general knowledge and factual questions  history  very easy  \n",
       "0  general knowledge and factual questions  history  very easy  \n",
       "0  general knowledge and factual questions  history  very easy  \n",
       "0  general knowledge and factual questions  history  very easy  \n",
       "0  general knowledge and factual questions  history  very easy  \n",
       "0  general knowledge and factual questions  history  very easy  \n",
       "0  general knowledge and factual questions  history  very easy  \n",
       "0  general knowledge and factual questions  history  very easy  \n",
       "0  general knowledge and factual questions  history  very easy  \n",
       "0  general knowledge and factual questions  history  very easy  \n",
       "0  general knowledge and factual questions  history  very easy  \n",
       "0  general knowledge and factual questions  history  very easy  \n",
       "0  general knowledge and factual questions  history  very easy  \n",
       "0  general knowledge and factual questions  history  very easy  \n",
       "0  general knowledge and factual questions  history  very easy  \n",
       "0  general knowledge and factual questions  history  very easy  \n",
       "0  general knowledge and factual questions  history  very easy  \n",
       "0  general knowledge and factual questions  history  very easy  \n",
       "0  general knowledge and factual questions  history  very easy  \n",
       "0  general knowledge and factual questions  history  very easy  \n",
       "0  general knowledge and factual questions  history  very easy  \n",
       "0  general knowledge and factual questions  history  very easy  \n",
       "0  general knowledge and factual questions  history  very easy  \n",
       "0  general knowledge and factual questions  history  very easy  \n",
       "0  general knowledge and factual questions  history  very easy  \n",
       "0  general knowledge and factual questions  history  very easy  \n",
       "0  general knowledge and factual questions  history  very easy  \n",
       "0  general knowledge and factual questions  history  very easy  \n",
       "0  general knowledge and factual questions  history  very easy  \n",
       "0  general knowledge and factual questions  history  very easy  \n",
       "0  general knowledge and factual questions  history  very easy  \n",
       "0  general knowledge and factual questions  history  very easy  \n",
       "0  general knowledge and factual questions  history  very easy  \n",
       "0  general knowledge and factual questions  history  very easy  "
      ]
     },
     "execution_count": 79,
     "metadata": {},
     "output_type": "execute_result"
    }
   ],
   "source": [
    "df.head(50)"
   ]
  },
  {
   "cell_type": "code",
   "execution_count": 87,
   "metadata": {},
   "outputs": [
    {
     "data": {
      "text/plain": [
       "(32716, 4)"
      ]
     },
     "execution_count": 87,
     "metadata": {},
     "output_type": "execute_result"
    }
   ],
   "source": [
    "df.shape"
   ]
  },
  {
   "cell_type": "code",
   "execution_count": 88,
   "metadata": {},
   "outputs": [],
   "source": [
    "df.to_csv('prompts.csv', index=False)"
   ]
  },
  {
   "cell_type": "code",
   "execution_count": 89,
   "metadata": {},
   "outputs": [],
   "source": [
    "from huggingface_hub import HfApi, HfFolder, Repository, DatasetCard, DatasetCardData\n",
    "from datasets import load_dataset, DatasetDict, Dataset\n",
    "import pandas as pd"
   ]
  },
  {
   "cell_type": "code",
   "execution_count": 90,
   "metadata": {},
   "outputs": [
    {
     "data": {
      "application/vnd.jupyter.widget-view+json": {
       "model_id": "c6a7b416766e4bf0abb3c254c9212b5b",
       "version_major": 2,
       "version_minor": 0
      },
      "text/plain": [
       "Generating train split: 0 examples [00:00, ? examples/s]"
      ]
     },
     "metadata": {},
     "output_type": "display_data"
    }
   ],
   "source": [
    "hf_dataset = load_dataset(\"csv\", data_files=\"prompts.csv\")\n"
   ]
  },
  {
   "cell_type": "code",
   "execution_count": 91,
   "metadata": {},
   "outputs": [],
   "source": [
    "hf_dataset = hf_dataset.shuffle(seed=42)  # Seed is used for reproducibility"
   ]
  },
  {
   "cell_type": "code",
   "execution_count": 94,
   "metadata": {},
   "outputs": [],
   "source": [
    "hf_dataset = hf_dataset['train']"
   ]
  },
  {
   "cell_type": "code",
   "execution_count": 95,
   "metadata": {},
   "outputs": [],
   "source": [
    "hf_dataset_split = hf_dataset.train_test_split(test_size=0.8)"
   ]
  },
  {
   "cell_type": "code",
   "execution_count": 97,
   "metadata": {},
   "outputs": [],
   "source": [
    "train_dataset = hf_dataset_split['train']\n",
    "val_dataset = hf_dataset_split['test']\n",
    "\n",
    "# Create a DatasetDict\n",
    "dataset_dict = DatasetDict({\n",
    "    'train': train_dataset,\n",
    "    'validation': val_dataset\n",
    "})"
   ]
  },
  {
   "cell_type": "code",
   "execution_count": 98,
   "metadata": {},
   "outputs": [
    {
     "data": {
      "application/vnd.jupyter.widget-view+json": {
       "model_id": "136755b4a4b04ca7b0904fcb0267e74e",
       "version_major": 2,
       "version_minor": 0
      },
      "text/plain": [
       "Uploading the dataset shards:   0%|          | 0/1 [00:00<?, ?it/s]"
      ]
     },
     "metadata": {},
     "output_type": "display_data"
    },
    {
     "data": {
      "application/vnd.jupyter.widget-view+json": {
       "model_id": "adeb0efe10c84f0381d4b165f816d8f3",
       "version_major": 2,
       "version_minor": 0
      },
      "text/plain": [
       "Creating parquet from Arrow format:   0%|          | 0/7 [00:00<?, ?ba/s]"
      ]
     },
     "metadata": {},
     "output_type": "display_data"
    },
    {
     "data": {
      "application/vnd.jupyter.widget-view+json": {
       "model_id": "89fc05dbe8fa4275943e4bfda3cb0292",
       "version_major": 2,
       "version_minor": 0
      },
      "text/plain": [
       "Uploading the dataset shards:   0%|          | 0/1 [00:00<?, ?it/s]"
      ]
     },
     "metadata": {},
     "output_type": "display_data"
    },
    {
     "data": {
      "application/vnd.jupyter.widget-view+json": {
       "model_id": "1a2f8c0c19d04bed803f6b4f00cd2801",
       "version_major": 2,
       "version_minor": 0
      },
      "text/plain": [
       "Creating parquet from Arrow format:   0%|          | 0/27 [00:00<?, ?ba/s]"
      ]
     },
     "metadata": {},
     "output_type": "display_data"
    },
    {
     "data": {
      "application/vnd.jupyter.widget-view+json": {
       "model_id": "bde8cd52a5fc4a2cafdced3bc85be11f",
       "version_major": 2,
       "version_minor": 0
      },
      "text/plain": [
       "README.md:   0%|          | 0.00/507 [00:00<?, ?B/s]"
      ]
     },
     "metadata": {},
     "output_type": "display_data"
    },
    {
     "name": "stdout",
     "output_type": "stream",
     "text": [
      "Dataset uploaded successfully to Hugging Face!\n"
     ]
    }
   ],
   "source": [
    "from huggingface_hub import create_repo\n",
    "\n",
    "dataset_dict.push_to_hub(\"pauhidalgoo/patufet-prompts\")\n",
    "\n",
    "print(\"Dataset uploaded successfully to Hugging Face!\")"
   ]
  },
  {
   "cell_type": "code",
   "execution_count": 99,
   "metadata": {},
   "outputs": [
    {
     "data": {
      "text/plain": [
       "DatasetDict({\n",
       "    train: Dataset({\n",
       "        features: ['Prompts', 'Types', 'Topic', 'Difficulty'],\n",
       "        num_rows: 6543\n",
       "    })\n",
       "    validation: Dataset({\n",
       "        features: ['Prompts', 'Types', 'Topic', 'Difficulty'],\n",
       "        num_rows: 26173\n",
       "    })\n",
       "})"
      ]
     },
     "execution_count": 99,
     "metadata": {},
     "output_type": "execute_result"
    }
   ],
   "source": [
    "dataset_dict"
   ]
  }
 ],
 "metadata": {
  "kernelspec": {
   "display_name": "Python 3",
   "language": "python",
   "name": "python3"
  },
  "language_info": {
   "codemirror_mode": {
    "name": "ipython",
    "version": 3
   },
   "file_extension": ".py",
   "mimetype": "text/x-python",
   "name": "python",
   "nbconvert_exporter": "python",
   "pygments_lexer": "ipython3",
   "version": "3.11.9"
  }
 },
 "nbformat": 4,
 "nbformat_minor": 2
}
