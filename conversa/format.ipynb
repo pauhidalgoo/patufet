{
 "cells": [
  {
   "cell_type": "code",
   "execution_count": 26,
   "metadata": {},
   "outputs": [],
   "source": [
    "import pandas as pd\n",
    "import re\n",
    "\n",
    "df = pd.read_csv('synthetic_conversations.csv')\n",
    "\n",
    "df2 = pd.read_csv('synthetic_conversations2.csv')\n",
    "\n",
    "df3 = pd.read_csv('synthetic_conversations3.csv')"
   ]
  },
  {
   "cell_type": "code",
   "execution_count": 27,
   "metadata": {},
   "outputs": [],
   "source": [
    "df = pd.concat([df, df2], ignore_index=True)"
   ]
  },
  {
   "cell_type": "code",
   "execution_count": 28,
   "metadata": {},
   "outputs": [],
   "source": [
    "df = pd.concat([df, df3], ignore_index=True)"
   ]
  },
  {
   "cell_type": "code",
   "execution_count": 30,
   "metadata": {},
   "outputs": [
    {
     "name": "stdout",
     "output_type": "stream",
     "text": [
      "                                            messages\n",
      "0  [{'role': 'system', 'content': ''}, {'role': '...\n",
      "1  [{'role': 'system', 'content': ''}, {'role': '...\n",
      "2  [{'role': 'system', 'content': ''}, {'role': '...\n",
      "3  [{'role': 'system', 'content': ''}, {'role': '...\n",
      "4  [{'role': 'system', 'content': ''}, {'role': '...\n"
     ]
    }
   ],
   "source": [
    "\n",
    "def process_conversation(text):\n",
    "    system_pattern = r\"System: (.+?)(?=\\s*User:|\\Z)\"\n",
    "    dialogue_pattern = r\"(?s)User: (.+?)\\s*AI: (.+?)(?=\\s*User:|\\Z)\"\n",
    "    \n",
    "    system_match = re.search(system_pattern, text)\n",
    "    \n",
    "    matches = re.findall(dialogue_pattern, text)\n",
    "    \n",
    "    if not matches:\n",
    "        return None\n",
    "    \n",
    "    conversation = [{\"role\": \"system\", \"content\": \"\"}]\n",
    "  \n",
    "    if system_match:\n",
    "        conversation[0]['content'] = system_match.group(1).strip()\n",
    "    \n",
    "    # Add user and AI messages\n",
    "    for user_text, ai_text in matches:\n",
    "        conversation.append({\"role\": \"user\", \"content\": user_text.strip()})\n",
    "        conversation.append({\"role\": \"assistant\", \"content\": ai_text.strip()})\n",
    "    \n",
    "    return conversation\n",
    "\n",
    "df['messages'] = df['Converse'].apply(process_conversation)\n",
    "\n",
    "df_cleaned = df.dropna(subset=['messages'])\n",
    "\n",
    "df_cleaned.to_csv('messages.csv', index=False)\n",
    "print(df_cleaned[['messages']].head())\n"
   ]
  },
  {
   "cell_type": "code",
   "execution_count": 31,
   "metadata": {},
   "outputs": [
    {
     "name": "stdout",
     "output_type": "stream",
     "text": [
      "(30368, 6)\n"
     ]
    }
   ],
   "source": [
    "print(df_cleaned.shape)"
   ]
  },
  {
   "cell_type": "code",
   "execution_count": 32,
   "metadata": {},
   "outputs": [
    {
     "data": {
      "text/html": [
       "<div>\n",
       "<style scoped>\n",
       "    .dataframe tbody tr th:only-of-type {\n",
       "        vertical-align: middle;\n",
       "    }\n",
       "\n",
       "    .dataframe tbody tr th {\n",
       "        vertical-align: top;\n",
       "    }\n",
       "\n",
       "    .dataframe thead th {\n",
       "        text-align: right;\n",
       "    }\n",
       "</style>\n",
       "<table border=\"1\" class=\"dataframe\">\n",
       "  <thead>\n",
       "    <tr style=\"text-align: right;\">\n",
       "      <th></th>\n",
       "      <th>Converse</th>\n",
       "      <th>Topic</th>\n",
       "      <th>Subtopic</th>\n",
       "      <th>Style</th>\n",
       "      <th>Greetings</th>\n",
       "      <th>messages</th>\n",
       "    </tr>\n",
       "  </thead>\n",
       "  <tbody>\n",
       "    <tr>\n",
       "      <th>0</th>\n",
       "      <td>User: M'he quedat sense idees per a sopar. Què...</td>\n",
       "      <td>Handling ambiguity</td>\n",
       "      <td>Providing multiple possibilities</td>\n",
       "      <td>Dilemmas</td>\n",
       "      <td>Do not include greetings</td>\n",
       "      <td>[{'role': 'system', 'content': ''}, {'role': '...</td>\n",
       "    </tr>\n",
       "  </tbody>\n",
       "</table>\n",
       "</div>"
      ],
      "text/plain": [
       "                                            Converse               Topic  \\\n",
       "0  User: M'he quedat sense idees per a sopar. Què...  Handling ambiguity   \n",
       "\n",
       "                           Subtopic     Style                 Greetings  \\\n",
       "0  Providing multiple possibilities  Dilemmas  Do not include greetings   \n",
       "\n",
       "                                            messages  \n",
       "0  [{'role': 'system', 'content': ''}, {'role': '...  "
      ]
     },
     "execution_count": 32,
     "metadata": {},
     "output_type": "execute_result"
    }
   ],
   "source": [
    "df_cleaned.head(1)"
   ]
  },
  {
   "cell_type": "code",
   "execution_count": 33,
   "metadata": {},
   "outputs": [],
   "source": [
    "from huggingface_hub import HfApi, HfFolder, Repository, DatasetCard, DatasetCardData\n",
    "from datasets import load_dataset, DatasetDict, Dataset\n",
    "import pandas as pd"
   ]
  },
  {
   "cell_type": "code",
   "execution_count": 34,
   "metadata": {},
   "outputs": [
    {
     "data": {
      "application/vnd.jupyter.widget-view+json": {
       "model_id": "2dae3e690b784458b3d9f912a0d44e4c",
       "version_major": 2,
       "version_minor": 0
      },
      "text/plain": [
       "Generating train split: 0 examples [00:00, ? examples/s]"
      ]
     },
     "metadata": {},
     "output_type": "display_data"
    }
   ],
   "source": [
    "hf_dataset = load_dataset(\"csv\", data_files=\"messages.csv\")\n"
   ]
  },
  {
   "cell_type": "code",
   "execution_count": 35,
   "metadata": {},
   "outputs": [
    {
     "data": {
      "application/vnd.jupyter.widget-view+json": {
       "model_id": "79070f67c4df49689bd1f2e77e4000a6",
       "version_major": 2,
       "version_minor": 0
      },
      "text/plain": [
       "Filter:   0%|          | 0/30368 [00:00<?, ? examples/s]"
      ]
     },
     "metadata": {},
     "output_type": "display_data"
    }
   ],
   "source": [
    "def filter_rows(example):\n",
    "    return example['Style'] not in [\"Incomplete prompts (continuation task)\"]\n",
    "\n",
    "hf_dataset = hf_dataset.filter(filter_rows)"
   ]
  },
  {
   "cell_type": "code",
   "execution_count": 36,
   "metadata": {},
   "outputs": [
    {
     "data": {
      "text/plain": [
       "{'train': (29044, 6)}"
      ]
     },
     "execution_count": 36,
     "metadata": {},
     "output_type": "execute_result"
    }
   ],
   "source": [
    "hf_dataset.shape"
   ]
  },
  {
   "cell_type": "code",
   "execution_count": 38,
   "metadata": {},
   "outputs": [
    {
     "data": {
      "application/vnd.jupyter.widget-view+json": {
       "model_id": "b9ac0481e8de44e8ab25bd03b7f20df4",
       "version_major": 2,
       "version_minor": 0
      },
      "text/plain": [
       "Map:   0%|          | 0/29044 [00:00<?, ? examples/s]"
      ]
     },
     "metadata": {},
     "output_type": "display_data"
    }
   ],
   "source": [
    "def string_to_list(row):\n",
    "    return eval(row['messages'])\n",
    "\n",
    "hf_dataset = hf_dataset.map(lambda x: {'messages': string_to_list(x)})\n"
   ]
  },
  {
   "cell_type": "code",
   "execution_count": 39,
   "metadata": {},
   "outputs": [
    {
     "data": {
      "application/vnd.jupyter.widget-view+json": {
       "model_id": "39a1d1c85b4b4a05a4002e11e9a7f614",
       "version_major": 2,
       "version_minor": 0
      },
      "text/plain": [
       "Uploading the dataset shards:   0%|          | 0/1 [00:00<?, ?it/s]"
      ]
     },
     "metadata": {},
     "output_type": "display_data"
    },
    {
     "data": {
      "application/vnd.jupyter.widget-view+json": {
       "model_id": "45b8e455821644c7b3fbc44932f81bbe",
       "version_major": 2,
       "version_minor": 0
      },
      "text/plain": [
       "Creating parquet from Arrow format:   0%|          | 0/30 [00:00<?, ?ba/s]"
      ]
     },
     "metadata": {},
     "output_type": "display_data"
    },
    {
     "data": {
      "application/vnd.jupyter.widget-view+json": {
       "model_id": "4a84d8577912455485cf4c6ee6c6fa92",
       "version_major": 2,
       "version_minor": 0
      },
      "text/plain": [
       "README.md:   0%|          | 0.00/480 [00:00<?, ?B/s]"
      ]
     },
     "metadata": {},
     "output_type": "display_data"
    },
    {
     "name": "stdout",
     "output_type": "stream",
     "text": [
      "Dataset uploaded successfully to Hugging Face!\n"
     ]
    }
   ],
   "source": [
    "from huggingface_hub import create_repo\n",
    "repo_url = create_repo(\"pauhidalgoo/patufet-conversa\", repo_type=\"dataset\", private=False)\n",
    "\n",
    "hf_dataset.push_to_hub(\"pauhidalgoo/patufet-conversa\")\n",
    "\n",
    "print(\"Dataset uploaded successfully to Hugging Face!\")"
   ]
  }
 ],
 "metadata": {
  "kernelspec": {
   "display_name": "Python 3",
   "language": "python",
   "name": "python3"
  },
  "language_info": {
   "codemirror_mode": {
    "name": "ipython",
    "version": 3
   },
   "file_extension": ".py",
   "mimetype": "text/x-python",
   "name": "python",
   "nbconvert_exporter": "python",
   "pygments_lexer": "ipython3",
   "version": "3.11.9"
  }
 },
 "nbformat": 4,
 "nbformat_minor": 2
}
