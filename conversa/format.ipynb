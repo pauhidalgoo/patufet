{
 "cells": [
  {
   "cell_type": "code",
   "execution_count": 2,
   "metadata": {},
   "outputs": [],
   "source": [
    "import pandas as pd\n",
    "import re\n",
    "\n",
    "# Load the CSV file into a DataFrame\n",
    "df = pd.read_csv('synthetic_conversations.csv')\n",
    "\n",
    "df2 = pd.read_csv('synthetic_conversations2.csv')"
   ]
  },
  {
   "cell_type": "code",
   "execution_count": 3,
   "metadata": {},
   "outputs": [],
   "source": [
    "df = pd.concat([df, df2], ignore_index=True)"
   ]
  },
  {
   "cell_type": "code",
   "execution_count": 5,
   "metadata": {},
   "outputs": [
    {
     "name": "stdout",
     "output_type": "stream",
     "text": [
      "                            transformed_conversation\n",
      "0  {'messages': [{'role': 'system', 'content': ''...\n",
      "1  {'messages': [{'role': 'system', 'content': ''...\n",
      "2  {'messages': [{'role': 'system', 'content': ''...\n",
      "3  {'messages': [{'role': 'system', 'content': ''...\n",
      "4  {'messages': [{'role': 'system', 'content': ''...\n"
     ]
    }
   ],
   "source": [
    "# Function to process the 'Content' column and transform it into a conversational format\n",
    "def process_conversation(text):\n",
    "    # Regular expression to match the format \"System: ... (optional) User: ... AI: ...\"\n",
    "    system_pattern = r\"System: (.+?)(?=\\s*User:|\\Z)\"\n",
    "    dialogue_pattern = r\"(?s)User: (.+?)\\s*AI: (.+?)(?=\\s*User:|\\Z)\"\n",
    "    \n",
    "    # Find system message if it exists\n",
    "    system_match = re.search(system_pattern, text)\n",
    "    \n",
    "    # Find all user-AI pairs\n",
    "    matches = re.findall(dialogue_pattern, text)\n",
    "    \n",
    "    # If there are no matches, return None (indicating incorrect format)\n",
    "    if not matches:\n",
    "        return None\n",
    "    \n",
    "    # Start the conversation with a default system message\n",
    "    conversation = [{\"role\": \"system\", \"content\": \"\"}]\n",
    "    \n",
    "    # If a system message exists, replace the default message\n",
    "    if system_match:\n",
    "        conversation[0]['content'] = system_match.group(1).strip()\n",
    "    \n",
    "    # Add user and AI messages\n",
    "    for user_text, ai_text in matches:\n",
    "        conversation.append({\"role\": \"user\", \"content\": user_text.strip()})\n",
    "        conversation.append({\"role\": \"assistant\", \"content\": ai_text.strip()})\n",
    "    \n",
    "    return {\"messages\": conversation}\n",
    "\n",
    "# Apply the function to the 'Content' column and create a new column for the transformed data\n",
    "df['transformed_conversation'] = df['Converse'].apply(process_conversation)\n",
    "\n",
    "# Drop rows with incorrectly formatted content (where transformed_conversation is None)\n",
    "df_cleaned = df.dropna(subset=['transformed_conversation'])\n",
    "\n",
    "# Save the cleaned and transformed dataset to a new CSV file\n",
    "df_cleaned.to_csv('transformed_dataset.csv', index=False)\n",
    "\n",
    "# Optionally, you can also view the first few rows of the transformed dataset\n",
    "print(df_cleaned[['transformed_conversation']].head())\n"
   ]
  },
  {
   "cell_type": "code",
   "execution_count": 6,
   "metadata": {},
   "outputs": [
    {
     "name": "stdout",
     "output_type": "stream",
     "text": [
      "(30722, 6)\n"
     ]
    }
   ],
   "source": [
    "print(df.shape)"
   ]
  },
  {
   "cell_type": "code",
   "execution_count": 9,
   "metadata": {},
   "outputs": [
    {
     "data": {
      "text/html": [
       "<div>\n",
       "<style scoped>\n",
       "    .dataframe tbody tr th:only-of-type {\n",
       "        vertical-align: middle;\n",
       "    }\n",
       "\n",
       "    .dataframe tbody tr th {\n",
       "        vertical-align: top;\n",
       "    }\n",
       "\n",
       "    .dataframe thead th {\n",
       "        text-align: right;\n",
       "    }\n",
       "</style>\n",
       "<table border=\"1\" class=\"dataframe\">\n",
       "  <thead>\n",
       "    <tr style=\"text-align: right;\">\n",
       "      <th></th>\n",
       "      <th>Converse</th>\n",
       "      <th>Topic</th>\n",
       "      <th>Subtopic</th>\n",
       "      <th>Style</th>\n",
       "      <th>Greetings</th>\n",
       "      <th>transformed_conversation</th>\n",
       "    </tr>\n",
       "  </thead>\n",
       "  <tbody>\n",
       "    <tr>\n",
       "      <th>0</th>\n",
       "      <td>User: M'he quedat sense idees per a sopar. Què...</td>\n",
       "      <td>Handling ambiguity</td>\n",
       "      <td>Providing multiple possibilities</td>\n",
       "      <td>Dilemmas</td>\n",
       "      <td>Do not include greetings</td>\n",
       "      <td>{'messages': [{'role': 'system', 'content': ''...</td>\n",
       "    </tr>\n",
       "  </tbody>\n",
       "</table>\n",
       "</div>"
      ],
      "text/plain": [
       "                                            Converse               Topic  \\\n",
       "0  User: M'he quedat sense idees per a sopar. Què...  Handling ambiguity   \n",
       "\n",
       "                           Subtopic     Style                 Greetings  \\\n",
       "0  Providing multiple possibilities  Dilemmas  Do not include greetings   \n",
       "\n",
       "                            transformed_conversation  \n",
       "0  {'messages': [{'role': 'system', 'content': ''...  "
      ]
     },
     "execution_count": 9,
     "metadata": {},
     "output_type": "execute_result"
    }
   ],
   "source": [
    "df_cleaned.head(1)"
   ]
  }
 ],
 "metadata": {
  "kernelspec": {
   "display_name": "Python 3",
   "language": "python",
   "name": "python3"
  },
  "language_info": {
   "codemirror_mode": {
    "name": "ipython",
    "version": 3
   },
   "file_extension": ".py",
   "mimetype": "text/x-python",
   "name": "python",
   "nbconvert_exporter": "python",
   "pygments_lexer": "ipython3",
   "version": "3.11.9"
  }
 },
 "nbformat": 4,
 "nbformat_minor": 2
}
